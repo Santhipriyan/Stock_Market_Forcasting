{
 "cells": [
  {
   "cell_type": "code",
   "execution_count": 1,
   "metadata": {
    "id": "ZYiV93EXynxu"
   },
   "outputs": [],
   "source": [
    "import numpy as np\n",
    "import pandas as pd\n",
    "import matplotlib.pyplot as plt\n",
    "import pandas_datareader as data"
   ]
  },
  {
   "cell_type": "code",
   "execution_count": 2,
   "metadata": {},
   "outputs": [
    {
     "data": {
      "text/html": [
       "<div>\n",
       "<style scoped>\n",
       "    .dataframe tbody tr th:only-of-type {\n",
       "        vertical-align: middle;\n",
       "    }\n",
       "\n",
       "    .dataframe tbody tr th {\n",
       "        vertical-align: top;\n",
       "    }\n",
       "\n",
       "    .dataframe thead th {\n",
       "        text-align: right;\n",
       "    }\n",
       "</style>\n",
       "<table border=\"1\" class=\"dataframe\">\n",
       "  <thead>\n",
       "    <tr style=\"text-align: right;\">\n",
       "      <th></th>\n",
       "      <th>High</th>\n",
       "      <th>Low</th>\n",
       "      <th>Open</th>\n",
       "      <th>Close</th>\n",
       "      <th>Volume</th>\n",
       "      <th>Adj Close</th>\n",
       "    </tr>\n",
       "    <tr>\n",
       "      <th>Date</th>\n",
       "      <th></th>\n",
       "      <th></th>\n",
       "      <th></th>\n",
       "      <th></th>\n",
       "      <th></th>\n",
       "      <th></th>\n",
       "    </tr>\n",
       "  </thead>\n",
       "  <tbody>\n",
       "    <tr>\n",
       "      <th>2009-12-31</th>\n",
       "      <td>7.619643</td>\n",
       "      <td>7.520000</td>\n",
       "      <td>7.611786</td>\n",
       "      <td>7.526071</td>\n",
       "      <td>352410800.0</td>\n",
       "      <td>6.434927</td>\n",
       "    </tr>\n",
       "    <tr>\n",
       "      <th>2010-01-04</th>\n",
       "      <td>7.660714</td>\n",
       "      <td>7.585000</td>\n",
       "      <td>7.622500</td>\n",
       "      <td>7.643214</td>\n",
       "      <td>493729600.0</td>\n",
       "      <td>6.535086</td>\n",
       "    </tr>\n",
       "    <tr>\n",
       "      <th>2010-01-05</th>\n",
       "      <td>7.699643</td>\n",
       "      <td>7.616071</td>\n",
       "      <td>7.664286</td>\n",
       "      <td>7.656429</td>\n",
       "      <td>601904800.0</td>\n",
       "      <td>6.546385</td>\n",
       "    </tr>\n",
       "    <tr>\n",
       "      <th>2010-01-06</th>\n",
       "      <td>7.686786</td>\n",
       "      <td>7.526786</td>\n",
       "      <td>7.656429</td>\n",
       "      <td>7.534643</td>\n",
       "      <td>552160000.0</td>\n",
       "      <td>6.442254</td>\n",
       "    </tr>\n",
       "    <tr>\n",
       "      <th>2010-01-07</th>\n",
       "      <td>7.571429</td>\n",
       "      <td>7.466071</td>\n",
       "      <td>7.562500</td>\n",
       "      <td>7.520714</td>\n",
       "      <td>477131200.0</td>\n",
       "      <td>6.430345</td>\n",
       "    </tr>\n",
       "  </tbody>\n",
       "</table>\n",
       "</div>"
      ],
      "text/plain": [
       "                High       Low      Open     Close       Volume  Adj Close\n",
       "Date                                                                      \n",
       "2009-12-31  7.619643  7.520000  7.611786  7.526071  352410800.0   6.434927\n",
       "2010-01-04  7.660714  7.585000  7.622500  7.643214  493729600.0   6.535086\n",
       "2010-01-05  7.699643  7.616071  7.664286  7.656429  601904800.0   6.546385\n",
       "2010-01-06  7.686786  7.526786  7.656429  7.534643  552160000.0   6.442254\n",
       "2010-01-07  7.571429  7.466071  7.562500  7.520714  477131200.0   6.430345"
      ]
     },
     "execution_count": 2,
     "metadata": {},
     "output_type": "execute_result"
    }
   ],
   "source": [
    "start = \"2010-01-01\"\n",
    "end = \"2019-12-31\"\n",
    "\n",
    "df = data.DataReader('AAPL','yahoo',start, end)\n",
    "df.head()"
   ]
  },
  {
   "cell_type": "code",
   "execution_count": 3,
   "metadata": {},
   "outputs": [
    {
     "data": {
      "text/html": [
       "<div>\n",
       "<style scoped>\n",
       "    .dataframe tbody tr th:only-of-type {\n",
       "        vertical-align: middle;\n",
       "    }\n",
       "\n",
       "    .dataframe tbody tr th {\n",
       "        vertical-align: top;\n",
       "    }\n",
       "\n",
       "    .dataframe thead th {\n",
       "        text-align: right;\n",
       "    }\n",
       "</style>\n",
       "<table border=\"1\" class=\"dataframe\">\n",
       "  <thead>\n",
       "    <tr style=\"text-align: right;\">\n",
       "      <th></th>\n",
       "      <th>High</th>\n",
       "      <th>Low</th>\n",
       "      <th>Open</th>\n",
       "      <th>Close</th>\n",
       "      <th>Volume</th>\n",
       "      <th>Adj Close</th>\n",
       "    </tr>\n",
       "    <tr>\n",
       "      <th>Date</th>\n",
       "      <th></th>\n",
       "      <th></th>\n",
       "      <th></th>\n",
       "      <th></th>\n",
       "      <th></th>\n",
       "      <th></th>\n",
       "    </tr>\n",
       "  </thead>\n",
       "  <tbody>\n",
       "    <tr>\n",
       "      <th>2019-12-24</th>\n",
       "      <td>71.222504</td>\n",
       "      <td>70.730003</td>\n",
       "      <td>71.172501</td>\n",
       "      <td>71.067497</td>\n",
       "      <td>48478800.0</td>\n",
       "      <td>69.835594</td>\n",
       "    </tr>\n",
       "    <tr>\n",
       "      <th>2019-12-26</th>\n",
       "      <td>72.495003</td>\n",
       "      <td>71.175003</td>\n",
       "      <td>71.205002</td>\n",
       "      <td>72.477501</td>\n",
       "      <td>93121200.0</td>\n",
       "      <td>71.221169</td>\n",
       "    </tr>\n",
       "    <tr>\n",
       "      <th>2019-12-27</th>\n",
       "      <td>73.492500</td>\n",
       "      <td>72.029999</td>\n",
       "      <td>72.779999</td>\n",
       "      <td>72.449997</td>\n",
       "      <td>146266000.0</td>\n",
       "      <td>71.194130</td>\n",
       "    </tr>\n",
       "    <tr>\n",
       "      <th>2019-12-30</th>\n",
       "      <td>73.172501</td>\n",
       "      <td>71.305000</td>\n",
       "      <td>72.364998</td>\n",
       "      <td>72.879997</td>\n",
       "      <td>144114400.0</td>\n",
       "      <td>71.616676</td>\n",
       "    </tr>\n",
       "    <tr>\n",
       "      <th>2019-12-31</th>\n",
       "      <td>73.419998</td>\n",
       "      <td>72.379997</td>\n",
       "      <td>72.482498</td>\n",
       "      <td>73.412498</td>\n",
       "      <td>100805600.0</td>\n",
       "      <td>72.139938</td>\n",
       "    </tr>\n",
       "  </tbody>\n",
       "</table>\n",
       "</div>"
      ],
      "text/plain": [
       "                 High        Low       Open      Close       Volume  Adj Close\n",
       "Date                                                                          \n",
       "2019-12-24  71.222504  70.730003  71.172501  71.067497   48478800.0  69.835594\n",
       "2019-12-26  72.495003  71.175003  71.205002  72.477501   93121200.0  71.221169\n",
       "2019-12-27  73.492500  72.029999  72.779999  72.449997  146266000.0  71.194130\n",
       "2019-12-30  73.172501  71.305000  72.364998  72.879997  144114400.0  71.616676\n",
       "2019-12-31  73.419998  72.379997  72.482498  73.412498  100805600.0  72.139938"
      ]
     },
     "execution_count": 3,
     "metadata": {},
     "output_type": "execute_result"
    }
   ],
   "source": [
    "df.tail()"
   ]
  },
  {
   "cell_type": "code",
   "execution_count": 4,
   "metadata": {},
   "outputs": [
    {
     "data": {
      "text/html": [
       "<div>\n",
       "<style scoped>\n",
       "    .dataframe tbody tr th:only-of-type {\n",
       "        vertical-align: middle;\n",
       "    }\n",
       "\n",
       "    .dataframe tbody tr th {\n",
       "        vertical-align: top;\n",
       "    }\n",
       "\n",
       "    .dataframe thead th {\n",
       "        text-align: right;\n",
       "    }\n",
       "</style>\n",
       "<table border=\"1\" class=\"dataframe\">\n",
       "  <thead>\n",
       "    <tr style=\"text-align: right;\">\n",
       "      <th></th>\n",
       "      <th>Date</th>\n",
       "      <th>High</th>\n",
       "      <th>Low</th>\n",
       "      <th>Open</th>\n",
       "      <th>Close</th>\n",
       "      <th>Volume</th>\n",
       "      <th>Adj Close</th>\n",
       "    </tr>\n",
       "  </thead>\n",
       "  <tbody>\n",
       "    <tr>\n",
       "      <th>0</th>\n",
       "      <td>2009-12-31</td>\n",
       "      <td>7.619643</td>\n",
       "      <td>7.520000</td>\n",
       "      <td>7.611786</td>\n",
       "      <td>7.526071</td>\n",
       "      <td>352410800.0</td>\n",
       "      <td>6.434927</td>\n",
       "    </tr>\n",
       "    <tr>\n",
       "      <th>1</th>\n",
       "      <td>2010-01-04</td>\n",
       "      <td>7.660714</td>\n",
       "      <td>7.585000</td>\n",
       "      <td>7.622500</td>\n",
       "      <td>7.643214</td>\n",
       "      <td>493729600.0</td>\n",
       "      <td>6.535086</td>\n",
       "    </tr>\n",
       "    <tr>\n",
       "      <th>2</th>\n",
       "      <td>2010-01-05</td>\n",
       "      <td>7.699643</td>\n",
       "      <td>7.616071</td>\n",
       "      <td>7.664286</td>\n",
       "      <td>7.656429</td>\n",
       "      <td>601904800.0</td>\n",
       "      <td>6.546385</td>\n",
       "    </tr>\n",
       "    <tr>\n",
       "      <th>3</th>\n",
       "      <td>2010-01-06</td>\n",
       "      <td>7.686786</td>\n",
       "      <td>7.526786</td>\n",
       "      <td>7.656429</td>\n",
       "      <td>7.534643</td>\n",
       "      <td>552160000.0</td>\n",
       "      <td>6.442254</td>\n",
       "    </tr>\n",
       "    <tr>\n",
       "      <th>4</th>\n",
       "      <td>2010-01-07</td>\n",
       "      <td>7.571429</td>\n",
       "      <td>7.466071</td>\n",
       "      <td>7.562500</td>\n",
       "      <td>7.520714</td>\n",
       "      <td>477131200.0</td>\n",
       "      <td>6.430345</td>\n",
       "    </tr>\n",
       "  </tbody>\n",
       "</table>\n",
       "</div>"
      ],
      "text/plain": [
       "        Date      High       Low      Open     Close       Volume  Adj Close\n",
       "0 2009-12-31  7.619643  7.520000  7.611786  7.526071  352410800.0   6.434927\n",
       "1 2010-01-04  7.660714  7.585000  7.622500  7.643214  493729600.0   6.535086\n",
       "2 2010-01-05  7.699643  7.616071  7.664286  7.656429  601904800.0   6.546385\n",
       "3 2010-01-06  7.686786  7.526786  7.656429  7.534643  552160000.0   6.442254\n",
       "4 2010-01-07  7.571429  7.466071  7.562500  7.520714  477131200.0   6.430345"
      ]
     },
     "execution_count": 4,
     "metadata": {},
     "output_type": "execute_result"
    }
   ],
   "source": [
    "df = df.reset_index()\n",
    "df.head()"
   ]
  },
  {
   "cell_type": "code",
   "execution_count": 5,
   "metadata": {},
   "outputs": [
    {
     "data": {
      "text/html": [
       "<div>\n",
       "<style scoped>\n",
       "    .dataframe tbody tr th:only-of-type {\n",
       "        vertical-align: middle;\n",
       "    }\n",
       "\n",
       "    .dataframe tbody tr th {\n",
       "        vertical-align: top;\n",
       "    }\n",
       "\n",
       "    .dataframe thead th {\n",
       "        text-align: right;\n",
       "    }\n",
       "</style>\n",
       "<table border=\"1\" class=\"dataframe\">\n",
       "  <thead>\n",
       "    <tr style=\"text-align: right;\">\n",
       "      <th></th>\n",
       "      <th>Date</th>\n",
       "      <th>High</th>\n",
       "      <th>Low</th>\n",
       "      <th>Open</th>\n",
       "      <th>Close</th>\n",
       "      <th>Volume</th>\n",
       "      <th>Adj Close</th>\n",
       "    </tr>\n",
       "  </thead>\n",
       "  <tbody>\n",
       "    <tr>\n",
       "      <th>0</th>\n",
       "      <td>2009-12-31</td>\n",
       "      <td>7.619643</td>\n",
       "      <td>7.520000</td>\n",
       "      <td>7.611786</td>\n",
       "      <td>7.526071</td>\n",
       "      <td>352410800.0</td>\n",
       "      <td>6.434927</td>\n",
       "    </tr>\n",
       "    <tr>\n",
       "      <th>1</th>\n",
       "      <td>2010-01-04</td>\n",
       "      <td>7.660714</td>\n",
       "      <td>7.585000</td>\n",
       "      <td>7.622500</td>\n",
       "      <td>7.643214</td>\n",
       "      <td>493729600.0</td>\n",
       "      <td>6.535086</td>\n",
       "    </tr>\n",
       "    <tr>\n",
       "      <th>2</th>\n",
       "      <td>2010-01-05</td>\n",
       "      <td>7.699643</td>\n",
       "      <td>7.616071</td>\n",
       "      <td>7.664286</td>\n",
       "      <td>7.656429</td>\n",
       "      <td>601904800.0</td>\n",
       "      <td>6.546385</td>\n",
       "    </tr>\n",
       "    <tr>\n",
       "      <th>3</th>\n",
       "      <td>2010-01-06</td>\n",
       "      <td>7.686786</td>\n",
       "      <td>7.526786</td>\n",
       "      <td>7.656429</td>\n",
       "      <td>7.534643</td>\n",
       "      <td>552160000.0</td>\n",
       "      <td>6.442254</td>\n",
       "    </tr>\n",
       "    <tr>\n",
       "      <th>4</th>\n",
       "      <td>2010-01-07</td>\n",
       "      <td>7.571429</td>\n",
       "      <td>7.466071</td>\n",
       "      <td>7.562500</td>\n",
       "      <td>7.520714</td>\n",
       "      <td>477131200.0</td>\n",
       "      <td>6.430345</td>\n",
       "    </tr>\n",
       "  </tbody>\n",
       "</table>\n",
       "</div>"
      ],
      "text/plain": [
       "        Date      High       Low      Open     Close       Volume  Adj Close\n",
       "0 2009-12-31  7.619643  7.520000  7.611786  7.526071  352410800.0   6.434927\n",
       "1 2010-01-04  7.660714  7.585000  7.622500  7.643214  493729600.0   6.535086\n",
       "2 2010-01-05  7.699643  7.616071  7.664286  7.656429  601904800.0   6.546385\n",
       "3 2010-01-06  7.686786  7.526786  7.656429  7.534643  552160000.0   6.442254\n",
       "4 2010-01-07  7.571429  7.466071  7.562500  7.520714  477131200.0   6.430345"
      ]
     },
     "execution_count": 5,
     "metadata": {},
     "output_type": "execute_result"
    }
   ],
   "source": [
    "# df = df.drop(['Date','Adj Close'], axis = 1)\n",
    "df.head()"
   ]
  },
  {
   "cell_type": "code",
   "execution_count": null,
   "metadata": {},
   "outputs": [],
   "source": []
  },
  {
   "cell_type": "code",
   "execution_count": 6,
   "metadata": {
    "colab": {
     "base_uri": "https://localhost:8080/",
     "height": 391
    },
    "id": "0-FOrWvA5S_i",
    "outputId": "ae3dca43-afa9-46ed-fb74-6abf93290491"
   },
   "outputs": [
    {
     "ename": "AttributeError",
     "evalue": "'DataFrame' object has no attribute 'close'",
     "output_type": "error",
     "traceback": [
      "\u001b[1;31m---------------------------------------------------------------------------\u001b[0m",
      "\u001b[1;31mAttributeError\u001b[0m                            Traceback (most recent call last)",
      "\u001b[1;32mc:\\Users\\prash\\Documents\\DESKTOP DATA\\Projects\\AI Share Market\\LSTM_SM.ipynb Cell 7'\u001b[0m in \u001b[0;36m<cell line: 2>\u001b[1;34m()\u001b[0m\n\u001b[0;32m      <a href='vscode-notebook-cell:/c%3A/Users/prash/Documents/DESKTOP%20DATA/Projects/AI%20Share%20Market/LSTM_SM.ipynb#ch0000006?line=0'>1</a>\u001b[0m plt\u001b[39m.\u001b[39mfigure(figsize\u001b[39m=\u001b[39m(\u001b[39m12\u001b[39m,\u001b[39m6\u001b[39m))\n\u001b[1;32m----> <a href='vscode-notebook-cell:/c%3A/Users/prash/Documents/DESKTOP%20DATA/Projects/AI%20Share%20Market/LSTM_SM.ipynb#ch0000006?line=1'>2</a>\u001b[0m plt\u001b[39m.\u001b[39mplot(df\u001b[39m.\u001b[39;49mclose)\n\u001b[0;32m      <a href='vscode-notebook-cell:/c%3A/Users/prash/Documents/DESKTOP%20DATA/Projects/AI%20Share%20Market/LSTM_SM.ipynb#ch0000006?line=2'>3</a>\u001b[0m plt\u001b[39m.\u001b[39mplot(ma100,\u001b[39m'\u001b[39m\u001b[39mr\u001b[39m\u001b[39m'\u001b[39m)\n",
      "File \u001b[1;32mc:\\Users\\prash\\Documents\\DESKTOP DATA\\Projects\\AI Share Market\\venv\\lib\\site-packages\\pandas\\core\\generic.py:5575\u001b[0m, in \u001b[0;36mNDFrame.__getattr__\u001b[1;34m(self, name)\u001b[0m\n\u001b[0;32m   <a href='file:///c%3A/Users/prash/Documents/DESKTOP%20DATA/Projects/AI%20Share%20Market/venv/lib/site-packages/pandas/core/generic.py?line=5567'>5568</a>\u001b[0m \u001b[39mif\u001b[39;00m (\n\u001b[0;32m   <a href='file:///c%3A/Users/prash/Documents/DESKTOP%20DATA/Projects/AI%20Share%20Market/venv/lib/site-packages/pandas/core/generic.py?line=5568'>5569</a>\u001b[0m     name \u001b[39mnot\u001b[39;00m \u001b[39min\u001b[39;00m \u001b[39mself\u001b[39m\u001b[39m.\u001b[39m_internal_names_set\n\u001b[0;32m   <a href='file:///c%3A/Users/prash/Documents/DESKTOP%20DATA/Projects/AI%20Share%20Market/venv/lib/site-packages/pandas/core/generic.py?line=5569'>5570</a>\u001b[0m     \u001b[39mand\u001b[39;00m name \u001b[39mnot\u001b[39;00m \u001b[39min\u001b[39;00m \u001b[39mself\u001b[39m\u001b[39m.\u001b[39m_metadata\n\u001b[0;32m   <a href='file:///c%3A/Users/prash/Documents/DESKTOP%20DATA/Projects/AI%20Share%20Market/venv/lib/site-packages/pandas/core/generic.py?line=5570'>5571</a>\u001b[0m     \u001b[39mand\u001b[39;00m name \u001b[39mnot\u001b[39;00m \u001b[39min\u001b[39;00m \u001b[39mself\u001b[39m\u001b[39m.\u001b[39m_accessors\n\u001b[0;32m   <a href='file:///c%3A/Users/prash/Documents/DESKTOP%20DATA/Projects/AI%20Share%20Market/venv/lib/site-packages/pandas/core/generic.py?line=5571'>5572</a>\u001b[0m     \u001b[39mand\u001b[39;00m \u001b[39mself\u001b[39m\u001b[39m.\u001b[39m_info_axis\u001b[39m.\u001b[39m_can_hold_identifiers_and_holds_name(name)\n\u001b[0;32m   <a href='file:///c%3A/Users/prash/Documents/DESKTOP%20DATA/Projects/AI%20Share%20Market/venv/lib/site-packages/pandas/core/generic.py?line=5572'>5573</a>\u001b[0m ):\n\u001b[0;32m   <a href='file:///c%3A/Users/prash/Documents/DESKTOP%20DATA/Projects/AI%20Share%20Market/venv/lib/site-packages/pandas/core/generic.py?line=5573'>5574</a>\u001b[0m     \u001b[39mreturn\u001b[39;00m \u001b[39mself\u001b[39m[name]\n\u001b[1;32m-> <a href='file:///c%3A/Users/prash/Documents/DESKTOP%20DATA/Projects/AI%20Share%20Market/venv/lib/site-packages/pandas/core/generic.py?line=5574'>5575</a>\u001b[0m \u001b[39mreturn\u001b[39;00m \u001b[39mobject\u001b[39;49m\u001b[39m.\u001b[39;49m\u001b[39m__getattribute__\u001b[39;49m(\u001b[39mself\u001b[39;49m, name)\n",
      "\u001b[1;31mAttributeError\u001b[0m: 'DataFrame' object has no attribute 'close'"
     ]
    },
    {
     "data": {
      "text/plain": [
       "<Figure size 864x432 with 0 Axes>"
      ]
     },
     "metadata": {},
     "output_type": "display_data"
    }
   ],
   "source": [
    "plt.figure(figsize=(12,6))\n",
    "plt.plot(df.close)\n",
    "plt.plot(ma100,'r')"
   ]
  },
  {
   "cell_type": "code",
   "execution_count": null,
   "metadata": {
    "colab": {
     "base_uri": "https://localhost:8080/"
    },
    "id": "FPTMs3Cs5nMX",
    "outputId": "d3055ac5-e97a-4aa6-c7ff-fc09fea08f4c"
   },
   "outputs": [
    {
     "data": {
      "text/plain": [
       "0              NaN\n",
       "1              NaN\n",
       "2              NaN\n",
       "3              NaN\n",
       "4              NaN\n",
       "           ...    \n",
       "1252    2457.13200\n",
       "1253    2462.48410\n",
       "1254    2467.97875\n",
       "1255    2473.28940\n",
       "1256    2479.02040\n",
       "Name: close, Length: 1257, dtype: float64"
      ]
     },
     "execution_count": 28,
     "metadata": {},
     "output_type": "execute_result"
    }
   ],
   "source": [
    "ma200 = df.close.rolling(200).mean()\n",
    "ma200"
   ]
  },
  {
   "cell_type": "code",
   "execution_count": null,
   "metadata": {
    "colab": {
     "base_uri": "https://localhost:8080/",
     "height": 391
    },
    "id": "rRr6Enl753GO",
    "outputId": "bc17202c-d027-401b-d96e-0827f5002fe8"
   },
   "outputs": [
    {
     "data": {
      "text/plain": [
       "[<matplotlib.lines.Line2D at 0x2cf23873dc0>]"
      ]
     },
     "execution_count": 29,
     "metadata": {},
     "output_type": "execute_result"
    },
    {
     "data": {
      "image/png": "[encoded data removed]",
      "text/plain": [
       "<Figure size 864x432 with 1 Axes>"
      ]
     },
     "metadata": {
      "needs_background": "light"
     },
     "output_type": "display_data"
    }
   ],
   "source": [
    "plt.figure(figsize=(12,6))\n",
    "plt.plot(df.close)\n",
    "plt.plot(ma100,'r')\n",
    "plt.plot(ma200,'g')"
   ]
  },
  {
   "cell_type": "code",
   "execution_count": null,
   "metadata": {
    "colab": {
     "base_uri": "https://localhost:8080/"
    },
    "id": "dhGbxu0q6I2p",
    "outputId": "3d986c73-869f-4a38-8a7e-9d9620c631c2"
   },
   "outputs": [
    {
     "data": {
      "text/plain": [
       "(1257, 14)"
      ]
     },
     "execution_count": 30,
     "metadata": {},
     "output_type": "execute_result"
    }
   ],
   "source": [
    "df.shape"
   ]
  },
  {
   "cell_type": "code",
   "execution_count": null,
   "metadata": {
    "colab": {
     "base_uri": "https://localhost:8080/"
    },
    "id": "fxHDdxsZ6RAR",
    "outputId": "871bb0bf-64ec-4aac-d95e-2a01460cf133"
   },
   "outputs": [
    {
     "name": "stdout",
     "output_type": "stream",
     "text": [
      "(879, 1)\n",
      "(378, 1)\n"
     ]
    }
   ],
   "source": [
    "data_training = pd.DataFrame(df['close'][0:int(len(df)*0.70)])\n",
    "data_testing = pd.DataFrame(df['close'][int(len(df)*0.70):int(len(df))])\n",
    "\n",
    "print(data_training.shape)\n",
    "print(data_testing.shape)"
   ]
  },
  {
   "cell_type": "code",
   "execution_count": null,
   "metadata": {
    "colab": {
     "base_uri": "https://localhost:8080/",
     "height": 423
    },
    "id": "0KhhQQuJ65UL",
    "outputId": "392a51c5-2001-40e4-9f0c-62a7b03a950c"
   },
   "outputs": [
    {
     "data": {
      "text/html": [
       "<div>\n",
       "<style scoped>\n",
       "    .dataframe tbody tr th:only-of-type {\n",
       "        vertical-align: middle;\n",
       "    }\n",
       "\n",
       "    .dataframe tbody tr th {\n",
       "        vertical-align: top;\n",
       "    }\n",
       "\n",
       "    .dataframe thead th {\n",
       "        text-align: right;\n",
       "    }\n",
       "</style>\n",
       "<table border=\"1\" class=\"dataframe\">\n",
       "  <thead>\n",
       "    <tr style=\"text-align: right;\">\n",
       "      <th></th>\n",
       "      <th>close</th>\n",
       "    </tr>\n",
       "  </thead>\n",
       "  <tbody>\n",
       "    <tr>\n",
       "      <th>0</th>\n",
       "      <td>779.98</td>\n",
       "    </tr>\n",
       "    <tr>\n",
       "      <th>1</th>\n",
       "      <td>786.16</td>\n",
       "    </tr>\n",
       "    <tr>\n",
       "      <th>2</th>\n",
       "      <td>775.97</td>\n",
       "    </tr>\n",
       "    <tr>\n",
       "      <th>3</th>\n",
       "      <td>784.80</td>\n",
       "    </tr>\n",
       "    <tr>\n",
       "      <th>4</th>\n",
       "      <td>785.00</td>\n",
       "    </tr>\n",
       "    <tr>\n",
       "      <th>...</th>\n",
       "      <td>...</td>\n",
       "    </tr>\n",
       "    <tr>\n",
       "      <th>874</th>\n",
       "      <td>1403.59</td>\n",
       "    </tr>\n",
       "    <tr>\n",
       "      <th>875</th>\n",
       "      <td>1375.18</td>\n",
       "    </tr>\n",
       "    <tr>\n",
       "      <th>876</th>\n",
       "      <td>1348.33</td>\n",
       "    </tr>\n",
       "    <tr>\n",
       "      <th>877</th>\n",
       "      <td>1356.86</td>\n",
       "    </tr>\n",
       "    <tr>\n",
       "      <th>878</th>\n",
       "      <td>1373.06</td>\n",
       "    </tr>\n",
       "  </tbody>\n",
       "</table>\n",
       "<p>879 rows × 1 columns</p>\n",
       "</div>"
      ],
      "text/plain": [
       "       close\n",
       "0     779.98\n",
       "1     786.16\n",
       "2     775.97\n",
       "3     784.80\n",
       "4     785.00\n",
       "..       ...\n",
       "874  1403.59\n",
       "875  1375.18\n",
       "876  1348.33\n",
       "877  1356.86\n",
       "878  1373.06\n",
       "\n",
       "[879 rows x 1 columns]"
      ]
     },
     "execution_count": 32,
     "metadata": {},
     "output_type": "execute_result"
    }
   ],
   "source": [
    "data_training"
   ]
  },
  {
   "cell_type": "code",
   "execution_count": null,
   "metadata": {
    "id": "vUeEuFTf7Du7"
   },
   "outputs": [],
   "source": [
    "from sklearn.preprocessing import MinMaxScaler\n",
    "scaler = MinMaxScaler(feature_range = (0,1))"
   ]
  },
  {
   "cell_type": "code",
   "execution_count": null,
   "metadata": {
    "id": "gR3WOzqs7Zil"
   },
   "outputs": [],
   "source": [
    "data_training_array = scaler.fit_transform(data_training)"
   ]
  },
  {
   "cell_type": "code",
   "execution_count": null,
   "metadata": {
    "id": "DxiK2Qzd7rOd"
   },
   "outputs": [],
   "source": [
    "x_train = []\n",
    "y_train = []\n",
    "\n",
    "for i in range(100, data_training_array.shape[0]):\n",
    "  x_train.append(data_training_array[i-100:i])\n",
    "  y_train.append(data_training_array[i,0])\n",
    "\n",
    "x_train, y_train = np.array(x_train), np.array(y_train)"
   ]
  },
  {
   "cell_type": "code",
   "execution_count": null,
   "metadata": {
    "id": "6d-BPiwh9swL"
   },
   "outputs": [
    {
     "ename": "NameError",
     "evalue": "name 'LSTM' is not defined",
     "output_type": "error",
     "traceback": [
      "\u001b[1;31m---------------------------------------------------------------------------\u001b[0m",
      "\u001b[1;31mNameError\u001b[0m                                 Traceback (most recent call last)",
      "\u001b[1;32m<ipython-input-47-e6aedc57ab29>\u001b[0m in \u001b[0;36m<module>\u001b[1;34m\u001b[0m\n\u001b[0;32m      1\u001b[0m \u001b[1;32mfrom\u001b[0m \u001b[0mkeras\u001b[0m\u001b[1;33m.\u001b[0m\u001b[0mmodels\u001b[0m \u001b[1;32mimport\u001b[0m \u001b[0mSequential\u001b[0m\u001b[1;33m\u001b[0m\u001b[1;33m\u001b[0m\u001b[0m\n\u001b[0;32m      2\u001b[0m \u001b[0mmodel\u001b[0m \u001b[1;33m=\u001b[0m \u001b[0mSequential\u001b[0m\u001b[1;33m(\u001b[0m\u001b[1;33m)\u001b[0m\u001b[1;33m\u001b[0m\u001b[1;33m\u001b[0m\u001b[0m\n\u001b[1;32m----> 3\u001b[1;33m \u001b[0mmodel\u001b[0m\u001b[1;33m.\u001b[0m\u001b[0madd\u001b[0m\u001b[1;33m(\u001b[0m\u001b[0mLSTM\u001b[0m\u001b[1;33m(\u001b[0m\u001b[0munits\u001b[0m \u001b[1;33m=\u001b[0m \u001b[1;36m50\u001b[0m\u001b[1;33m,\u001b[0m \u001b[0mactivation\u001b[0m\u001b[1;33m=\u001b[0m \u001b[1;34m'relu'\u001b[0m\u001b[1;33m,\u001b[0m \u001b[0mreturn_sequences\u001b[0m\u001b[1;33m=\u001b[0m \u001b[1;32mTrue\u001b[0m\u001b[1;33m,\u001b[0m \u001b[0minput_shape\u001b[0m \u001b[1;33m=\u001b[0m \u001b[1;33m(\u001b[0m\u001b[0mx_train\u001b[0m\u001b[1;33m.\u001b[0m\u001b[0mshape\u001b[0m\u001b[1;33m[\u001b[0m\u001b[1;36m1\u001b[0m\u001b[1;33m]\u001b[0m\u001b[1;33m,\u001b[0m\u001b[1;36m1\u001b[0m\u001b[1;33m)\u001b[0m\u001b[1;33m)\u001b[0m\u001b[1;33m)\u001b[0m\u001b[1;33m\u001b[0m\u001b[1;33m\u001b[0m\u001b[0m\n\u001b[0m\u001b[0;32m      4\u001b[0m \u001b[0mmodel\u001b[0m\u001b[1;33m.\u001b[0m\u001b[0madd\u001b[0m\u001b[1;33m(\u001b[0m\u001b[0mDropout\u001b[0m\u001b[1;33m(\u001b[0m\u001b[1;36m0.2\u001b[0m\u001b[1;33m)\u001b[0m\u001b[1;33m)\u001b[0m\u001b[1;33m\u001b[0m\u001b[1;33m\u001b[0m\u001b[0m\n\u001b[0;32m      5\u001b[0m \u001b[1;33m\u001b[0m\u001b[0m\n",
      "\u001b[1;31mNameError\u001b[0m: name 'LSTM' is not defined"
     ]
    }
   ],
   "source": [
    "from keras.models import Sequential\n",
    "model = Sequential()\n",
    "model.add(LSTM(units = 50, activation= 'relu', return_sequences= True, input_shape = (x_train.shape[1],1)))\n",
    "model.add(Dropout(0.2))\n",
    "\n",
    "model.add(LSTM(units = 60, activation= 'relu', return_sequences= True))\n",
    "model.add(Dropout(0.3))\n",
    "\n",
    "model.add(LSTM(units = 80, activation= 'relu', return_sequences= True))\n",
    "model.add(Dropout(0.4))\n",
    "\n",
    "model.add(LSTM(units = 120, activation= 'relu'))\n",
    "model.add(Dropout(0.5))\n",
    "\n",
    "model.add(Dense(units = 1))"
   ]
  },
  {
   "cell_type": "code",
   "execution_count": null,
   "metadata": {
    "colab": {
     "base_uri": "https://localhost:8080/"
    },
    "id": "QA8VCw5S9cxc",
    "outputId": "8e9b175c-b0a6-4a37-e92e-4cb0cd40d303"
   },
   "outputs": [],
   "source": [
    "x_train.shape"
   ]
  },
  {
   "cell_type": "code",
   "execution_count": null,
   "metadata": {
    "colab": {
     "base_uri": "https://localhost:8080/"
    },
    "id": "MzFjwF5n-3EJ",
    "outputId": "6b31bbbc-23e8-4e07-a027-291997a44b9c"
   },
   "outputs": [],
   "source": [
    "model.summary()"
   ]
  },
  {
   "cell_type": "code",
   "execution_count": null,
   "metadata": {
    "colab": {
     "base_uri": "https://localhost:8080/"
    },
    "id": "92A7BtqK-GPF",
    "outputId": "7cc318df-cd32-454b-c8db-f135897343d7"
   },
   "outputs": [],
   "source": [
    "model.compile(optimizer='adam', loss='mean_squared_error')\n",
    "model.fit(x_train,y_train,epochs=50)"
   ]
  },
  {
   "cell_type": "code",
   "execution_count": null,
   "metadata": {
    "id": "OqB6QcJ6BQGW"
   },
   "outputs": [],
   "source": [
    "model.save('keras_model.h5')"
   ]
  },
  {
   "cell_type": "code",
   "execution_count": null,
   "metadata": {
    "colab": {
     "base_uri": "https://localhost:8080/"
    },
    "id": "rPVMIsexBXeE",
    "outputId": "fe5c5e1c-46f0-4c0d-c550-01f8359dafa4"
   },
   "outputs": [],
   "source": [
    "data_testing.shape"
   ]
  },
  {
   "cell_type": "code",
   "execution_count": null,
   "metadata": {
    "id": "Q3gfLz9OBdLS"
   },
   "outputs": [],
   "source": [
    "past_100_days = data_training.tail(100)"
   ]
  },
  {
   "cell_type": "code",
   "execution_count": null,
   "metadata": {
    "id": "uzGjhrGQBx6P"
   },
   "outputs": [],
   "source": [
    "final_df = past_100_days.append(data_testing, ignore_index=True)"
   ]
  },
  {
   "cell_type": "code",
   "execution_count": null,
   "metadata": {
    "colab": {
     "base_uri": "https://localhost:8080/",
     "height": 206
    },
    "id": "nm46vA8vB72g",
    "outputId": "26b73cf4-59e0-450d-f5d2-56bdae3ed937"
   },
   "outputs": [],
   "source": [
    "final_df.head()"
   ]
  },
  {
   "cell_type": "code",
   "execution_count": null,
   "metadata": {
    "colab": {
     "base_uri": "https://localhost:8080/"
    },
    "id": "-j5JrUgUCGDq",
    "outputId": "086aad8c-bac3-46ca-d883-5c1fc78d9db3"
   },
   "outputs": [],
   "source": [
    "input_data = scaler.fit_transform(final_df)\n",
    "input_data.shape"
   ]
  },
  {
   "cell_type": "code",
   "execution_count": null,
   "metadata": {
    "id": "NTVcUvjBCPwg"
   },
   "outputs": [],
   "source": [
    "x_test = []\n",
    "y_test = []\n",
    "\n",
    "for i in range(100, input_data.shape[0]):\n",
    "  x_test.append(input_data[i-100: i])\n",
    "  y_test.append(input_data[i, 0])"
   ]
  },
  {
   "cell_type": "code",
   "execution_count": null,
   "metadata": {
    "colab": {
     "base_uri": "https://localhost:8080/"
    },
    "id": "8XSids5qCh4g",
    "outputId": "39420df5-5f5c-4ce6-900b-6d150f4f6245"
   },
   "outputs": [],
   "source": [
    "x_test, y_test = np.array(x_test), np.array(y_test)\n",
    "print(x_test.shape)\n",
    "print(y_test.shape)"
   ]
  },
  {
   "cell_type": "code",
   "execution_count": null,
   "metadata": {
    "colab": {
     "base_uri": "https://localhost:8080/"
    },
    "id": "ahwtnkCGCueI",
    "outputId": "fe103937-6eb2-4fc6-9c5f-d8622dc68185"
   },
   "outputs": [],
   "source": [
    "y_predicted = model.predict(x_test)\n",
    "y_predicted.shape"
   ]
  },
  {
   "cell_type": "code",
   "execution_count": null,
   "metadata": {
    "colab": {
     "base_uri": "https://localhost:8080/"
    },
    "id": "2Q--N6CsDAZF",
    "outputId": "842c435f-4797-401f-8bbc-56aae88217aa"
   },
   "outputs": [],
   "source": [
    "scaler.scale_"
   ]
  },
  {
   "cell_type": "code",
   "execution_count": null,
   "metadata": {
    "id": "byFIiJ0tDKxC"
   },
   "outputs": [],
   "source": [
    "scale_factor = 1/0.0025047\n",
    "y_predicted = y_predicted * scale_factor\n",
    "y_test = y_test * scale_factor"
   ]
  },
  {
   "cell_type": "code",
   "execution_count": null,
   "metadata": {
    "colab": {
     "base_uri": "https://localhost:8080/",
     "height": 388
    },
    "id": "eIuD7srLDXDp",
    "outputId": "08ad3be5-681f-4c53-d7cb-634b6139ef62"
   },
   "outputs": [],
   "source": [
    "plt.figure(figsize=(12,6))\n",
    "plt.plot(y_test, 'b', label='Original Price')\n",
    "plt.plot(y_predicted, 'r', label='Predicted Price')\n",
    "plt.xlabel('Time')\n",
    "plt.ylabel('Price')\n",
    "plt.legend()\n",
    "plt.show()"
   ]
  },
  {
   "cell_type": "code",
   "execution_count": null,
   "metadata": {},
   "outputs": [],
   "source": []
  },
  {
   "cell_type": "code",
   "execution_count": null,
   "metadata": {},
   "outputs": [],
   "source": []
  }
 ],
 "metadata": {
  "colab": {
   "name": "LSTM_SM.ipynb",
   "provenance": []
  },
  "interpreter": {
   "hash": "8a3ae08510a4f98fd92ce987f8022de731a864d7dbcbf0c1f5f462983eab4b24"
  },
  "kernelspec": {
   "display_name": "Python 3.10.2 ('venv': venv)",
   "language": "python",
   "name": "python3"
  },
  "language_info": {
   "codemirror_mode": {
    "name": "ipython",
    "version": 3
   },
   "file_extension": ".py",
   "mimetype": "text/x-python",
   "name": "python",
   "nbconvert_exporter": "python",
   "pygments_lexer": "ipython3",
   "version": "3.10.2"
  }
 },
 "nbformat": 4,
 "nbformat_minor": 1
}
