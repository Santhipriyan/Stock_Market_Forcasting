{
 "cells": [
  {
   "cell_type": "code",
   "execution_count": 1,
   "id": "1d40d0aa",
   "metadata": {},
   "outputs": [],
   "source": [
    "import pandas_datareader as pdr\n",
    "import pandas as pd"
   ]
  },
  {
   "cell_type": "code",
   "execution_count": 2,
   "id": "ba55d94d",
   "metadata": {},
   "outputs": [],
   "source": [
    "key = \"ec9f337c06668b4bd2e04bbaf560780edb4d2904\""
   ]
  },
  {
   "cell_type": "code",
   "execution_count": 3,
   "id": "523d9500",
   "metadata": {},
   "outputs": [],
   "source": [
    "df = pdr.get_data_tiingo('AMZN', api_key=key)"
   ]
  },
  {
   "cell_type": "code",
   "execution_count": 4,
   "id": "87a36bdf",
   "metadata": {},
   "outputs": [],
   "source": [
    "df.to_csv('AMZN.csv')"
   ]
  },
  {
   "cell_type": "code",
   "execution_count": 5,
   "id": "6809f8cb",
   "metadata": {},
   "outputs": [],
   "source": [
    "# pandas\n",
    "df = pd.read_csv('AMZN.csv')"
   ]
  },
  {
   "cell_type": "code",
   "execution_count": 6,
   "id": "697a690d",
   "metadata": {},
   "outputs": [
    {
     "data": {
      "text/html": [
       "<div>\n",
       "<style scoped>\n",
       "    .dataframe tbody tr th:only-of-type {\n",
       "        vertical-align: middle;\n",
       "    }\n",
       "\n",
       "    .dataframe tbody tr th {\n",
       "        vertical-align: top;\n",
       "    }\n",
       "\n",
       "    .dataframe thead th {\n",
       "        text-align: right;\n",
       "    }\n",
       "</style>\n",
       "<table border=\"1\" class=\"dataframe\">\n",
       "  <thead>\n",
       "    <tr style=\"text-align: right;\">\n",
       "      <th></th>\n",
       "      <th>symbol</th>\n",
       "      <th>date</th>\n",
       "      <th>close</th>\n",
       "      <th>high</th>\n",
       "      <th>low</th>\n",
       "      <th>open</th>\n",
       "      <th>volume</th>\n",
       "      <th>adjClose</th>\n",
       "      <th>adjHigh</th>\n",
       "      <th>adjLow</th>\n",
       "      <th>adjOpen</th>\n",
       "      <th>adjVolume</th>\n",
       "      <th>divCash</th>\n",
       "      <th>splitFactor</th>\n",
       "    </tr>\n",
       "  </thead>\n",
       "  <tbody>\n",
       "    <tr>\n",
       "      <th>0</th>\n",
       "      <td>AMZN</td>\n",
       "      <td>2016-11-22 00:00:00+00:00</td>\n",
       "      <td>785.33</td>\n",
       "      <td>792.40</td>\n",
       "      <td>781.00</td>\n",
       "      <td>788.17</td>\n",
       "      <td>5311320</td>\n",
       "      <td>785.33</td>\n",
       "      <td>792.40</td>\n",
       "      <td>781.00</td>\n",
       "      <td>788.17</td>\n",
       "      <td>5311320</td>\n",
       "      <td>0.0</td>\n",
       "      <td>1.0</td>\n",
       "    </tr>\n",
       "    <tr>\n",
       "      <th>1</th>\n",
       "      <td>AMZN</td>\n",
       "      <td>2016-11-23 00:00:00+00:00</td>\n",
       "      <td>780.12</td>\n",
       "      <td>781.75</td>\n",
       "      <td>773.12</td>\n",
       "      <td>781.73</td>\n",
       "      <td>3540263</td>\n",
       "      <td>780.12</td>\n",
       "      <td>781.75</td>\n",
       "      <td>773.12</td>\n",
       "      <td>781.73</td>\n",
       "      <td>3540263</td>\n",
       "      <td>0.0</td>\n",
       "      <td>1.0</td>\n",
       "    </tr>\n",
       "    <tr>\n",
       "      <th>2</th>\n",
       "      <td>AMZN</td>\n",
       "      <td>2016-11-25 00:00:00+00:00</td>\n",
       "      <td>780.37</td>\n",
       "      <td>786.75</td>\n",
       "      <td>777.90</td>\n",
       "      <td>786.50</td>\n",
       "      <td>1837068</td>\n",
       "      <td>780.37</td>\n",
       "      <td>786.75</td>\n",
       "      <td>777.90</td>\n",
       "      <td>786.50</td>\n",
       "      <td>1837068</td>\n",
       "      <td>0.0</td>\n",
       "      <td>1.0</td>\n",
       "    </tr>\n",
       "    <tr>\n",
       "      <th>3</th>\n",
       "      <td>AMZN</td>\n",
       "      <td>2016-11-28 00:00:00+00:00</td>\n",
       "      <td>766.77</td>\n",
       "      <td>777.00</td>\n",
       "      <td>764.24</td>\n",
       "      <td>776.99</td>\n",
       "      <td>4438828</td>\n",
       "      <td>766.77</td>\n",
       "      <td>777.00</td>\n",
       "      <td>764.24</td>\n",
       "      <td>776.99</td>\n",
       "      <td>4438828</td>\n",
       "      <td>0.0</td>\n",
       "      <td>1.0</td>\n",
       "    </tr>\n",
       "    <tr>\n",
       "      <th>4</th>\n",
       "      <td>AMZN</td>\n",
       "      <td>2016-11-29 00:00:00+00:00</td>\n",
       "      <td>762.52</td>\n",
       "      <td>769.89</td>\n",
       "      <td>761.32</td>\n",
       "      <td>768.00</td>\n",
       "      <td>3272344</td>\n",
       "      <td>762.52</td>\n",
       "      <td>769.89</td>\n",
       "      <td>761.32</td>\n",
       "      <td>768.00</td>\n",
       "      <td>3272344</td>\n",
       "      <td>0.0</td>\n",
       "      <td>1.0</td>\n",
       "    </tr>\n",
       "  </tbody>\n",
       "</table>\n",
       "</div>"
      ],
      "text/plain": [
       "  symbol                       date   close    high     low    open   volume  \\\n",
       "0   AMZN  2016-11-22 00:00:00+00:00  785.33  792.40  781.00  788.17  5311320   \n",
       "1   AMZN  2016-11-23 00:00:00+00:00  780.12  781.75  773.12  781.73  3540263   \n",
       "2   AMZN  2016-11-25 00:00:00+00:00  780.37  786.75  777.90  786.50  1837068   \n",
       "3   AMZN  2016-11-28 00:00:00+00:00  766.77  777.00  764.24  776.99  4438828   \n",
       "4   AMZN  2016-11-29 00:00:00+00:00  762.52  769.89  761.32  768.00  3272344   \n",
       "\n",
       "   adjClose  adjHigh  adjLow  adjOpen  adjVolume  divCash  splitFactor  \n",
       "0    785.33   792.40  781.00   788.17    5311320      0.0          1.0  \n",
       "1    780.12   781.75  773.12   781.73    3540263      0.0          1.0  \n",
       "2    780.37   786.75  777.90   786.50    1837068      0.0          1.0  \n",
       "3    766.77   777.00  764.24   776.99    4438828      0.0          1.0  \n",
       "4    762.52   769.89  761.32   768.00    3272344      0.0          1.0  "
      ]
     },
     "execution_count": 6,
     "metadata": {},
     "output_type": "execute_result"
    }
   ],
   "source": [
    "df.head()"
   ]
  },
  {
   "cell_type": "code",
   "execution_count": 7,
   "id": "8e33f47d",
   "metadata": {},
   "outputs": [
    {
     "data": {
      "text/html": [
       "<div>\n",
       "<style scoped>\n",
       "    .dataframe tbody tr th:only-of-type {\n",
       "        vertical-align: middle;\n",
       "    }\n",
       "\n",
       "    .dataframe tbody tr th {\n",
       "        vertical-align: top;\n",
       "    }\n",
       "\n",
       "    .dataframe thead th {\n",
       "        text-align: right;\n",
       "    }\n",
       "</style>\n",
       "<table border=\"1\" class=\"dataframe\">\n",
       "  <thead>\n",
       "    <tr style=\"text-align: right;\">\n",
       "      <th></th>\n",
       "      <th>symbol</th>\n",
       "      <th>date</th>\n",
       "      <th>close</th>\n",
       "      <th>high</th>\n",
       "      <th>low</th>\n",
       "      <th>open</th>\n",
       "      <th>volume</th>\n",
       "      <th>adjClose</th>\n",
       "      <th>adjHigh</th>\n",
       "      <th>adjLow</th>\n",
       "      <th>adjOpen</th>\n",
       "      <th>adjVolume</th>\n",
       "      <th>divCash</th>\n",
       "      <th>splitFactor</th>\n",
       "    </tr>\n",
       "  </thead>\n",
       "  <tbody>\n",
       "    <tr>\n",
       "      <th>1253</th>\n",
       "      <td>AMZN</td>\n",
       "      <td>2021-11-15 00:00:00+00:00</td>\n",
       "      <td>3545.68</td>\n",
       "      <td>3593.880</td>\n",
       "      <td>3525.8100</td>\n",
       "      <td>3537.00</td>\n",
       "      <td>2929719</td>\n",
       "      <td>3545.68</td>\n",
       "      <td>3593.880</td>\n",
       "      <td>3525.8100</td>\n",
       "      <td>3537.00</td>\n",
       "      <td>2929719</td>\n",
       "      <td>0.0</td>\n",
       "      <td>1.0</td>\n",
       "    </tr>\n",
       "    <tr>\n",
       "      <th>1254</th>\n",
       "      <td>AMZN</td>\n",
       "      <td>2021-11-16 00:00:00+00:00</td>\n",
       "      <td>3540.70</td>\n",
       "      <td>3576.500</td>\n",
       "      <td>3525.1466</td>\n",
       "      <td>3539.00</td>\n",
       "      <td>2217071</td>\n",
       "      <td>3540.70</td>\n",
       "      <td>3576.500</td>\n",
       "      <td>3525.1466</td>\n",
       "      <td>3539.00</td>\n",
       "      <td>2217071</td>\n",
       "      <td>0.0</td>\n",
       "      <td>1.0</td>\n",
       "    </tr>\n",
       "    <tr>\n",
       "      <th>1255</th>\n",
       "      <td>AMZN</td>\n",
       "      <td>2021-11-17 00:00:00+00:00</td>\n",
       "      <td>3549.00</td>\n",
       "      <td>3587.245</td>\n",
       "      <td>3545.3500</td>\n",
       "      <td>3564.72</td>\n",
       "      <td>2560270</td>\n",
       "      <td>3549.00</td>\n",
       "      <td>3587.245</td>\n",
       "      <td>3545.3500</td>\n",
       "      <td>3564.72</td>\n",
       "      <td>2560270</td>\n",
       "      <td>0.0</td>\n",
       "      <td>1.0</td>\n",
       "    </tr>\n",
       "    <tr>\n",
       "      <th>1256</th>\n",
       "      <td>AMZN</td>\n",
       "      <td>2021-11-18 00:00:00+00:00</td>\n",
       "      <td>3696.06</td>\n",
       "      <td>3704.200</td>\n",
       "      <td>3561.0000</td>\n",
       "      <td>3566.35</td>\n",
       "      <td>5703538</td>\n",
       "      <td>3696.06</td>\n",
       "      <td>3704.200</td>\n",
       "      <td>3561.0000</td>\n",
       "      <td>3566.35</td>\n",
       "      <td>5703538</td>\n",
       "      <td>0.0</td>\n",
       "      <td>1.0</td>\n",
       "    </tr>\n",
       "    <tr>\n",
       "      <th>1257</th>\n",
       "      <td>AMZN</td>\n",
       "      <td>2021-11-19 00:00:00+00:00</td>\n",
       "      <td>3676.57</td>\n",
       "      <td>3762.145</td>\n",
       "      <td>3675.7200</td>\n",
       "      <td>3712.69</td>\n",
       "      <td>4946203</td>\n",
       "      <td>3676.57</td>\n",
       "      <td>3762.145</td>\n",
       "      <td>3675.7200</td>\n",
       "      <td>3712.69</td>\n",
       "      <td>4946203</td>\n",
       "      <td>0.0</td>\n",
       "      <td>1.0</td>\n",
       "    </tr>\n",
       "  </tbody>\n",
       "</table>\n",
       "</div>"
      ],
      "text/plain": [
       "     symbol                       date    close      high        low     open  \\\n",
       "1253   AMZN  2021-11-15 00:00:00+00:00  3545.68  3593.880  3525.8100  3537.00   \n",
       "1254   AMZN  2021-11-16 00:00:00+00:00  3540.70  3576.500  3525.1466  3539.00   \n",
       "1255   AMZN  2021-11-17 00:00:00+00:00  3549.00  3587.245  3545.3500  3564.72   \n",
       "1256   AMZN  2021-11-18 00:00:00+00:00  3696.06  3704.200  3561.0000  3566.35   \n",
       "1257   AMZN  2021-11-19 00:00:00+00:00  3676.57  3762.145  3675.7200  3712.69   \n",
       "\n",
       "       volume  adjClose   adjHigh     adjLow  adjOpen  adjVolume  divCash  \\\n",
       "1253  2929719   3545.68  3593.880  3525.8100  3537.00    2929719      0.0   \n",
       "1254  2217071   3540.70  3576.500  3525.1466  3539.00    2217071      0.0   \n",
       "1255  2560270   3549.00  3587.245  3545.3500  3564.72    2560270      0.0   \n",
       "1256  5703538   3696.06  3704.200  3561.0000  3566.35    5703538      0.0   \n",
       "1257  4946203   3676.57  3762.145  3675.7200  3712.69    4946203      0.0   \n",
       "\n",
       "      splitFactor  \n",
       "1253          1.0  \n",
       "1254          1.0  \n",
       "1255          1.0  \n",
       "1256          1.0  \n",
       "1257          1.0  "
      ]
     },
     "execution_count": 7,
     "metadata": {},
     "output_type": "execute_result"
    }
   ],
   "source": [
    "df.tail()"
   ]
  },
  {
   "cell_type": "code",
   "execution_count": 8,
   "id": "126f8e98",
   "metadata": {},
   "outputs": [],
   "source": [
    "df1 = df.reset_index()['close']"
   ]
  },
  {
   "cell_type": "code",
   "execution_count": 9,
   "id": "294a7cb6",
   "metadata": {},
   "outputs": [
    {
     "data": {
      "text/plain": [
       "0        785.33\n",
       "1        780.12\n",
       "2        780.37\n",
       "3        766.77\n",
       "4        762.52\n",
       "         ...   \n",
       "1253    3545.68\n",
       "1254    3540.70\n",
       "1255    3549.00\n",
       "1256    3696.06\n",
       "1257    3676.57\n",
       "Name: close, Length: 1258, dtype: float64"
      ]
     },
     "execution_count": 9,
     "metadata": {},
     "output_type": "execute_result"
    }
   ],
   "source": [
    "df1"
   ]
  },
  {
   "cell_type": "code",
   "execution_count": 10,
   "id": "d6b0b13e",
   "metadata": {},
   "outputs": [
    {
     "data": {
      "text/plain": [
       "(1258,)"
      ]
     },
     "execution_count": 10,
     "metadata": {},
     "output_type": "execute_result"
    }
   ],
   "source": [
    "df1.shape"
   ]
  },
  {
   "cell_type": "code",
   "execution_count": 11,
   "id": "aedbfbfb",
   "metadata": {},
   "outputs": [],
   "source": [
    "import matplotlib.pyplot as plt\n",
    "import numpy as np"
   ]
  },
  {
   "cell_type": "code",
   "execution_count": 12,
   "id": "e9ca810d",
   "metadata": {},
   "outputs": [
    {
     "data": {
      "text/plain": [
       "[<matplotlib.lines.Line2D at 0x20dcf1be520>]"
      ]
     },
     "execution_count": 12,
     "metadata": {},
     "output_type": "execute_result"
    },
    {
     "data": {
      "image/png": "[encoded data removed]",
      "text/plain": [
       "<Figure size 432x288 with 1 Axes>"
      ]
     },
     "metadata": {
      "needs_background": "light"
     },
     "output_type": "display_data"
    }
   ],
   "source": [
    "plt.plot(df1)"
   ]
  },
  {
   "cell_type": "code",
   "execution_count": 13,
   "id": "bacdef4b",
   "metadata": {},
   "outputs": [],
   "source": [
    "# LSTM are sensitive to the scale of the data. so we apply MinMax scaler\n",
    "\n",
    "from sklearn.preprocessing import MinMaxScaler\n",
    "scaler = MinMaxScaler(feature_range=(0,1))\n",
    "df1 = scaler.fit_transform(np.array(df1).reshape(-1,1))"
   ]
  },
  {
   "cell_type": "code",
   "execution_count": 14,
   "id": "d55bcbf0",
   "metadata": {},
   "outputs": [
    {
     "name": "stdout",
     "output_type": "stream",
     "text": [
      "[[0.01504144]\n",
      " [0.01329959]\n",
      " [0.01338317]\n",
      " ...\n",
      " [0.93901514]\n",
      " [0.98818149]\n",
      " [0.98166542]]\n"
     ]
    }
   ],
   "source": [
    "print(df1)"
   ]
  },
  {
   "cell_type": "code",
   "execution_count": 15,
   "id": "f1d47304",
   "metadata": {},
   "outputs": [],
   "source": [
    "#splitting dataset into train and test split\n",
    "\n",
    "training_size = int(len(df1) * 0.65)\n",
    "test_size = len(df1) - training_size\n",
    "train_data, test_data = df1[0:training_size,:], df1[training_size:len(df1), :1]"
   ]
  },
  {
   "cell_type": "code",
   "execution_count": 16,
   "id": "a0ccfcb9",
   "metadata": {},
   "outputs": [
    {
     "data": {
      "text/plain": [
       "(817, 441)"
      ]
     },
     "execution_count": 16,
     "metadata": {},
     "output_type": "execute_result"
    }
   ],
   "source": [
    "training_size, test_size"
   ]
  },
  {
   "cell_type": "code",
   "execution_count": 17,
   "id": "951ca499",
   "metadata": {},
   "outputs": [],
   "source": [
    "# convert an array of values into a dataset matrix\n",
    "def create_dataset(dataset, time_step = 1):\n",
    "\tdataX, dataY = [], []\n",
    "\tfor i in range( len(dataset) - time_step - 1 ):\n",
    "\t\ta = dataset[i : (i + time_step), 0]   ###i=0, 0,1,2,3-----99   100 \n",
    "\t\tdataX.append(a)\n",
    "\t\tdataY.append(dataset[i + time_step, 0])\n",
    "\treturn np.array(dataX), np.array(dataY)"
   ]
  },
  {
   "cell_type": "code",
   "execution_count": 18,
   "id": "5c759621",
   "metadata": {},
   "outputs": [],
   "source": [
    "# reshape into X=t,t+1,t+2,t+3 and Y=t+4\n",
    "time_step = 100\n",
    "X_train, y_train = create_dataset(train_data, time_step)\n",
    "X_test, ytest = create_dataset(test_data, time_step)"
   ]
  },
  {
   "cell_type": "code",
   "execution_count": 19,
   "id": "beeb1340",
   "metadata": {},
   "outputs": [
    {
     "name": "stdout",
     "output_type": "stream",
     "text": [
      "[[0.01504144 0.01329959 0.01338317 ... 0.04825363 0.0540442  0.05464265]\n",
      " [0.01329959 0.01338317 0.0088363  ... 0.0540442  0.05464265 0.05311143]\n",
      " [0.01338317 0.0088363  0.00741541 ... 0.05464265 0.05311143 0.05406761]\n",
      " ...\n",
      " [0.34368637 0.33416135 0.32935037 ... 0.47124608 0.46623115 0.47318518]\n",
      " [0.33416135 0.32935037 0.33284744 ... 0.46623115 0.47318518 0.47804966]\n",
      " [0.32935037 0.33284744 0.33276052 ... 0.47318518 0.47804966 0.47232596]]\n"
     ]
    }
   ],
   "source": [
    "print(X_train)"
   ]
  },
  {
   "cell_type": "code",
   "execution_count": 20,
   "id": "73727ef1",
   "metadata": {},
   "outputs": [
    {
     "name": "stdout",
     "output_type": "stream",
     "text": [
      "(716, 100)\n",
      "(716,)\n"
     ]
    },
    {
     "data": {
      "text/plain": [
       "(None, None)"
      ]
     },
     "execution_count": 20,
     "metadata": {},
     "output_type": "execute_result"
    }
   ],
   "source": [
    "print(X_train.shape), print(y_train.shape)"
   ]
  },
  {
   "cell_type": "code",
   "execution_count": 21,
   "id": "f05547e5",
   "metadata": {},
   "outputs": [
    {
     "name": "stdout",
     "output_type": "stream",
     "text": [
      "(340, 100)\n",
      "(340,)\n"
     ]
    },
    {
     "data": {
      "text/plain": [
       "(None, None)"
      ]
     },
     "execution_count": 21,
     "metadata": {},
     "output_type": "execute_result"
    }
   ],
   "source": [
    "print(X_test.shape), print(ytest.shape)"
   ]
  },
  {
   "cell_type": "code",
   "execution_count": 22,
   "id": "8bb779a4",
   "metadata": {},
   "outputs": [],
   "source": [
    "# reshape input to be [samples, time steps, features] which is required for LSTM\n",
    "X_train = X_train.reshape( X_train.shape[0], X_train.shape[1] , 1)\n",
    "X_test = X_test.reshape( X_test.shape[0], X_test.shape[1] , 1)"
   ]
  },
  {
   "cell_type": "code",
   "execution_count": 23,
   "id": "aac943f1",
   "metadata": {},
   "outputs": [],
   "source": [
    "# Create the Stacked LSTM model\n",
    "from tensorflow.keras.models import Sequential\n",
    "from tensorflow.keras.layers import Dense\n",
    "from tensorflow.keras.layers import LSTM"
   ]
  },
  {
   "cell_type": "code",
   "execution_count": 24,
   "id": "bc93615e",
   "metadata": {},
   "outputs": [],
   "source": [
    "model = Sequential()\n",
    "model.add(LSTM( 50, return_sequences = True,input_shape = (100,1) ))\n",
    "model.add(LSTM( 50, return_sequences = True ))\n",
    "model.add(LSTM( 50 ))\n",
    "model.add(Dense( 1 ))\n",
    "model.compile(loss = 'mean_squared_error',optimizer = 'adam')"
   ]
  },
  {
   "cell_type": "code",
   "execution_count": 25,
   "id": "bb6a2b98",
   "metadata": {},
   "outputs": [
    {
     "name": "stdout",
     "output_type": "stream",
     "text": [
      "Model: \"sequential\"\n",
      "_________________________________________________________________\n",
      " Layer (type)                Output Shape              Param #   \n",
      "=================================================================\n",
      " lstm (LSTM)                 (None, 100, 50)           10400     \n",
      "                                                                 \n",
      " lstm_1 (LSTM)               (None, 100, 50)           20200     \n",
      "                                                                 \n",
      " lstm_2 (LSTM)               (None, 50)                20200     \n",
      "                                                                 \n",
      " dense (Dense)               (None, 1)                 51        \n",
      "                                                                 \n",
      "=================================================================\n",
      "Total params: 50,851\n",
      "Trainable params: 50,851\n",
      "Non-trainable params: 0\n",
      "_________________________________________________________________\n"
     ]
    }
   ],
   "source": [
    "model.summary()"
   ]
  },
  {
   "cell_type": "code",
   "execution_count": 26,
   "id": "f56bc6ef",
   "metadata": {},
   "outputs": [
    {
     "name": "stdout",
     "output_type": "stream",
     "text": [
      "Epoch 1/100\n",
      "12/12 [==============================] - 8s 242ms/step - loss: 0.0181 - val_loss: 0.1075\n",
      "Epoch 2/100\n",
      "12/12 [==============================] - 2s 144ms/step - loss: 0.0036 - val_loss: 0.0153\n",
      "Epoch 3/100\n",
      "12/12 [==============================] - 2s 138ms/step - loss: 0.0016 - val_loss: 0.0129\n",
      "Epoch 4/100\n",
      "12/12 [==============================] - 2s 149ms/step - loss: 9.3855e-04 - val_loss: 0.0100\n",
      "Epoch 5/100\n",
      "12/12 [==============================] - 2s 155ms/step - loss: 7.5708e-04 - val_loss: 0.0058\n",
      "Epoch 6/100\n",
      "12/12 [==============================] - 2s 178ms/step - loss: 8.1268e-04 - val_loss: 0.0034\n",
      "Epoch 7/100\n",
      "12/12 [==============================] - 2s 152ms/step - loss: 6.9535e-04 - val_loss: 0.0033\n",
      "Epoch 8/100\n",
      "12/12 [==============================] - 2s 128ms/step - loss: 6.6261e-04 - val_loss: 0.0028\n",
      "Epoch 9/100\n",
      "12/12 [==============================] - 1s 124ms/step - loss: 6.3809e-04 - val_loss: 0.0038\n",
      "Epoch 10/100\n",
      "12/12 [==============================] - 1s 125ms/step - loss: 6.3192e-04 - val_loss: 0.0045\n",
      "Epoch 11/100\n",
      "12/12 [==============================] - 1s 121ms/step - loss: 6.4680e-04 - val_loss: 0.0055\n",
      "Epoch 12/100\n",
      "12/12 [==============================] - 1s 119ms/step - loss: 6.1841e-04 - val_loss: 0.0047\n",
      "Epoch 13/100\n",
      "12/12 [==============================] - 1s 122ms/step - loss: 6.0439e-04 - val_loss: 0.0048\n",
      "Epoch 14/100\n",
      "12/12 [==============================] - 1s 121ms/step - loss: 6.1740e-04 - val_loss: 0.0043\n",
      "Epoch 15/100\n",
      "12/12 [==============================] - 2s 127ms/step - loss: 6.1088e-04 - val_loss: 0.0076\n",
      "Epoch 16/100\n",
      "12/12 [==============================] - 2s 133ms/step - loss: 6.0042e-04 - val_loss: 0.0080\n",
      "Epoch 17/100\n",
      "12/12 [==============================] - 2s 126ms/step - loss: 6.0921e-04 - val_loss: 0.0052\n",
      "Epoch 18/100\n",
      "12/12 [==============================] - 1s 121ms/step - loss: 5.7403e-04 - val_loss: 0.0095\n",
      "Epoch 19/100\n",
      "12/12 [==============================] - 2s 126ms/step - loss: 6.9442e-04 - val_loss: 0.0128\n",
      "Epoch 20/100\n",
      "12/12 [==============================] - 1s 126ms/step - loss: 6.0053e-04 - val_loss: 0.0078\n",
      "Epoch 21/100\n",
      "12/12 [==============================] - 2s 127ms/step - loss: 5.5342e-04 - val_loss: 0.0049\n",
      "Epoch 22/100\n",
      "12/12 [==============================] - 1s 126ms/step - loss: 5.3984e-04 - val_loss: 0.0098\n",
      "Epoch 23/100\n",
      "12/12 [==============================] - 1s 120ms/step - loss: 5.4164e-04 - val_loss: 0.0102\n",
      "Epoch 24/100\n",
      "12/12 [==============================] - 1s 122ms/step - loss: 5.3058e-04 - val_loss: 0.0085\n",
      "Epoch 25/100\n",
      "12/12 [==============================] - 2s 133ms/step - loss: 5.0888e-04 - val_loss: 0.0085\n",
      "Epoch 26/100\n",
      "12/12 [==============================] - 1s 122ms/step - loss: 4.9444e-04 - val_loss: 0.0118\n",
      "Epoch 27/100\n",
      "12/12 [==============================] - 2s 140ms/step - loss: 4.9605e-04 - val_loss: 0.0151\n",
      "Epoch 28/100\n",
      "12/12 [==============================] - 1s 125ms/step - loss: 4.7029e-04 - val_loss: 0.0105\n",
      "Epoch 29/100\n",
      "12/12 [==============================] - 2s 127ms/step - loss: 5.0042e-04 - val_loss: 0.0253\n",
      "Epoch 30/100\n",
      "12/12 [==============================] - 1s 124ms/step - loss: 4.7094e-04 - val_loss: 0.0261\n",
      "Epoch 31/100\n",
      "12/12 [==============================] - 1s 125ms/step - loss: 4.7281e-04 - val_loss: 0.0204\n",
      "Epoch 32/100\n",
      "12/12 [==============================] - 2s 126ms/step - loss: 4.9118e-04 - val_loss: 0.0292\n",
      "Epoch 33/100\n",
      "12/12 [==============================] - 1s 125ms/step - loss: 4.7579e-04 - val_loss: 0.0370\n",
      "Epoch 34/100\n",
      "12/12 [==============================] - 1s 125ms/step - loss: 4.4349e-04 - val_loss: 0.0282\n",
      "Epoch 35/100\n",
      "12/12 [==============================] - 2s 135ms/step - loss: 4.1760e-04 - val_loss: 0.0463\n",
      "Epoch 36/100\n",
      "12/12 [==============================] - 2s 136ms/step - loss: 4.9140e-04 - val_loss: 0.0217\n",
      "Epoch 37/100\n",
      "12/12 [==============================] - 2s 130ms/step - loss: 4.8531e-04 - val_loss: 0.0437\n",
      "Epoch 38/100\n",
      "12/12 [==============================] - 2s 125ms/step - loss: 4.4357e-04 - val_loss: 0.0254\n",
      "Epoch 39/100\n",
      "12/12 [==============================] - 1s 121ms/step - loss: 4.1832e-04 - val_loss: 0.0399\n",
      "Epoch 40/100\n",
      "12/12 [==============================] - 1s 121ms/step - loss: 4.0942e-04 - val_loss: 0.0462\n",
      "Epoch 41/100\n",
      "12/12 [==============================] - 1s 126ms/step - loss: 4.5296e-04 - val_loss: 0.0289\n",
      "Epoch 42/100\n",
      "12/12 [==============================] - 2s 131ms/step - loss: 4.1490e-04 - val_loss: 0.0335\n",
      "Epoch 43/100\n",
      "12/12 [==============================] - 2s 154ms/step - loss: 3.8429e-04 - val_loss: 0.0296\n",
      "Epoch 44/100\n",
      "12/12 [==============================] - 2s 157ms/step - loss: 3.8030e-04 - val_loss: 0.0278\n",
      "Epoch 45/100\n",
      "12/12 [==============================] - 2s 136ms/step - loss: 3.7881e-04 - val_loss: 0.0335\n",
      "Epoch 46/100\n",
      "12/12 [==============================] - 2s 133ms/step - loss: 3.8968e-04 - val_loss: 0.0288\n",
      "Epoch 47/100\n",
      "12/12 [==============================] - 2s 143ms/step - loss: 4.0224e-04 - val_loss: 0.0343\n",
      "Epoch 48/100\n",
      "12/12 [==============================] - 2s 135ms/step - loss: 4.4134e-04 - val_loss: 0.0207\n",
      "Epoch 49/100\n",
      "12/12 [==============================] - 2s 134ms/step - loss: 3.9634e-04 - val_loss: 0.0321\n",
      "Epoch 50/100\n",
      "12/12 [==============================] - 2s 130ms/step - loss: 4.1413e-04 - val_loss: 0.0187\n",
      "Epoch 51/100\n",
      "12/12 [==============================] - 2s 134ms/step - loss: 4.7269e-04 - val_loss: 0.0241\n",
      "Epoch 52/100\n",
      "12/12 [==============================] - 2s 137ms/step - loss: 3.5420e-04 - val_loss: 0.0212\n",
      "Epoch 53/100\n",
      "12/12 [==============================] - 2s 142ms/step - loss: 3.4521e-04 - val_loss: 0.0254\n",
      "Epoch 54/100\n",
      "12/12 [==============================] - 2s 141ms/step - loss: 3.6213e-04 - val_loss: 0.0229\n",
      "Epoch 55/100\n",
      "12/12 [==============================] - 2s 142ms/step - loss: 3.5286e-04 - val_loss: 0.0168\n",
      "Epoch 56/100\n",
      "12/12 [==============================] - 2s 138ms/step - loss: 3.5525e-04 - val_loss: 0.0190\n",
      "Epoch 57/100\n",
      "12/12 [==============================] - 2s 147ms/step - loss: 3.3352e-04 - val_loss: 0.0186\n",
      "Epoch 58/100\n",
      "12/12 [==============================] - 2s 136ms/step - loss: 3.3236e-04 - val_loss: 0.0154\n",
      "Epoch 59/100\n",
      "12/12 [==============================] - 2s 131ms/step - loss: 3.4578e-04 - val_loss: 0.0247\n",
      "Epoch 60/100\n",
      "12/12 [==============================] - 2s 134ms/step - loss: 3.7750e-04 - val_loss: 0.0152\n",
      "Epoch 61/100\n",
      "12/12 [==============================] - 2s 131ms/step - loss: 3.3259e-04 - val_loss: 0.0148\n",
      "Epoch 62/100\n",
      "12/12 [==============================] - 2s 131ms/step - loss: 3.4476e-04 - val_loss: 0.0232\n",
      "Epoch 63/100\n",
      "12/12 [==============================] - 2s 131ms/step - loss: 3.1546e-04 - val_loss: 0.0138\n",
      "Epoch 64/100\n",
      "12/12 [==============================] - 2s 131ms/step - loss: 3.1127e-04 - val_loss: 0.0171\n",
      "Epoch 65/100\n",
      "12/12 [==============================] - 2s 132ms/step - loss: 3.2984e-04 - val_loss: 0.0192\n",
      "Epoch 66/100\n",
      "12/12 [==============================] - 2s 132ms/step - loss: 3.3698e-04 - val_loss: 0.0101\n",
      "Epoch 67/100\n",
      "12/12 [==============================] - 2s 143ms/step - loss: 3.1672e-04 - val_loss: 0.0121-0\n",
      "Epoch 68/100\n",
      "12/12 [==============================] - 2s 134ms/step - loss: 2.8723e-04 - val_loss: 0.0154\n",
      "Epoch 69/100\n",
      "12/12 [==============================] - 2s 136ms/step - loss: 2.8417e-04 - val_loss: 0.0083\n",
      "Epoch 70/100\n",
      "12/12 [==============================] - 2s 165ms/step - loss: 3.1323e-04 - val_loss: 0.0141\n",
      "Epoch 71/100\n",
      "12/12 [==============================] - 2s 163ms/step - loss: 2.7872e-04 - val_loss: 0.0111\n",
      "Epoch 72/100\n",
      "12/12 [==============================] - 2s 142ms/step - loss: 2.8723e-04 - val_loss: 0.0139\n",
      "Epoch 73/100\n",
      "12/12 [==============================] - 2s 134ms/step - loss: 2.7782e-04 - val_loss: 0.0099\n",
      "Epoch 74/100\n",
      "12/12 [==============================] - 2s 134ms/step - loss: 2.7595e-04 - val_loss: 0.0090\n",
      "Epoch 75/100\n",
      "12/12 [==============================] - 2s 133ms/step - loss: 2.6279e-04 - val_loss: 0.0075\n",
      "Epoch 76/100\n",
      "12/12 [==============================] - 2s 134ms/step - loss: 2.6934e-04 - val_loss: 0.0095\n",
      "Epoch 77/100\n",
      "12/12 [==============================] - 2s 152ms/step - loss: 2.7038e-04 - val_loss: 0.0050\n",
      "Epoch 78/100\n"
     ]
    },
    {
     "name": "stdout",
     "output_type": "stream",
     "text": [
      "12/12 [==============================] - 2s 131ms/step - loss: 3.0162e-04 - val_loss: 0.0117\n",
      "Epoch 79/100\n",
      "12/12 [==============================] - 2s 130ms/step - loss: 2.8454e-04 - val_loss: 0.0089\n",
      "Epoch 80/100\n",
      "12/12 [==============================] - 2s 132ms/step - loss: 2.5627e-04 - val_loss: 0.0043\n",
      "Epoch 81/100\n",
      "12/12 [==============================] - 2s 134ms/step - loss: 2.5032e-04 - val_loss: 0.0096\n",
      "Epoch 82/100\n",
      "12/12 [==============================] - 2s 133ms/step - loss: 2.6968e-04 - val_loss: 0.0050\n",
      "Epoch 83/100\n",
      "12/12 [==============================] - 2s 132ms/step - loss: 2.3485e-04 - val_loss: 0.0068\n",
      "Epoch 84/100\n",
      "12/12 [==============================] - 2s 131ms/step - loss: 2.3578e-04 - val_loss: 0.0017\n",
      "Epoch 85/100\n",
      "12/12 [==============================] - 2s 131ms/step - loss: 2.4573e-04 - val_loss: 0.0053\n",
      "Epoch 86/100\n",
      "12/12 [==============================] - 2s 131ms/step - loss: 2.3321e-04 - val_loss: 0.0032\n",
      "Epoch 87/100\n",
      "12/12 [==============================] - 2s 151ms/step - loss: 2.3794e-04 - val_loss: 0.0021\n",
      "Epoch 88/100\n",
      "12/12 [==============================] - 2s 138ms/step - loss: 2.2080e-04 - val_loss: 0.0026\n",
      "Epoch 89/100\n",
      "12/12 [==============================] - 2s 143ms/step - loss: 2.1098e-04 - val_loss: 0.0039\n",
      "Epoch 90/100\n",
      "12/12 [==============================] - 2s 142ms/step - loss: 2.0805e-04 - val_loss: 0.0029\n",
      "Epoch 91/100\n",
      "12/12 [==============================] - 2s 140ms/step - loss: 2.0541e-04 - val_loss: 0.0017\n",
      "Epoch 92/100\n",
      "12/12 [==============================] - 2s 148ms/step - loss: 1.9976e-04 - val_loss: 0.0026\n",
      "Epoch 93/100\n",
      "12/12 [==============================] - 2s 146ms/step - loss: 2.0156e-04 - val_loss: 0.0010\n",
      "Epoch 94/100\n",
      "12/12 [==============================] - 2s 143ms/step - loss: 1.9975e-04 - val_loss: 0.0012\n",
      "Epoch 95/100\n",
      "12/12 [==============================] - 2s 134ms/step - loss: 1.9878e-04 - val_loss: 0.0023\n",
      "Epoch 96/100\n",
      "12/12 [==============================] - 2s 150ms/step - loss: 1.8902e-04 - val_loss: 0.0011\n",
      "Epoch 97/100\n",
      "12/12 [==============================] - 2s 142ms/step - loss: 1.9789e-04 - val_loss: 0.0040\n",
      "Epoch 98/100\n",
      "12/12 [==============================] - 2s 138ms/step - loss: 1.9757e-04 - val_loss: 9.4747e-04\n",
      "Epoch 99/100\n",
      "12/12 [==============================] - 2s 135ms/step - loss: 1.8185e-04 - val_loss: 0.0026\n",
      "Epoch 100/100\n",
      "12/12 [==============================] - 2s 132ms/step - loss: 1.8153e-04 - val_loss: 8.8029e-04\n"
     ]
    },
    {
     "data": {
      "text/plain": [
       "<keras.callbacks.History at 0x20de05b2730>"
      ]
     },
     "execution_count": 26,
     "metadata": {},
     "output_type": "execute_result"
    }
   ],
   "source": [
    "model.fit(X_train,y_train,validation_data=(X_test,ytest),epochs=100,batch_size=64,verbose=1)"
   ]
  },
  {
   "cell_type": "code",
   "execution_count": 27,
   "id": "41d27030",
   "metadata": {},
   "outputs": [
    {
     "data": {
      "text/plain": [
       "'2.7.0'"
      ]
     },
     "execution_count": 27,
     "metadata": {},
     "output_type": "execute_result"
    }
   ],
   "source": [
    "import tensorflow as tf\n",
    "tf.__version__"
   ]
  },
  {
   "cell_type": "code",
   "execution_count": 28,
   "id": "ba2aa092",
   "metadata": {},
   "outputs": [],
   "source": [
    "# Lets Do the prediction and check performance metrics\n",
    "train_predict = model.predict(X_train)\n",
    "test_predict = model.predict(X_test)"
   ]
  },
  {
   "cell_type": "code",
   "execution_count": 29,
   "id": "e0875995",
   "metadata": {},
   "outputs": [],
   "source": [
    "##Transformback to original form\n",
    "train_predict=scaler.inverse_transform(train_predict)\n",
    "test_predict=scaler.inverse_transform(test_predict)"
   ]
  },
  {
   "cell_type": "code",
   "execution_count": 30,
   "id": "5e63ff17",
   "metadata": {},
   "outputs": [
    {
     "data": {
      "text/plain": [
       "1595.787429164462"
      ]
     },
     "execution_count": 30,
     "metadata": {},
     "output_type": "execute_result"
    }
   ],
   "source": [
    "# Calculate RMSE performance metrics\n",
    "import math\n",
    "from sklearn.metrics import mean_squared_error\n",
    "math.sqrt(mean_squared_error(y_train, train_predict))"
   ]
  },
  {
   "cell_type": "code",
   "execution_count": 31,
   "id": "2966f2dd",
   "metadata": {},
   "outputs": [
    {
     "data": {
      "text/plain": [
       "3253.1130171758036"
      ]
     },
     "execution_count": 31,
     "metadata": {},
     "output_type": "execute_result"
    }
   ],
   "source": [
    "# Test Data RMSE\n",
    "math.sqrt(mean_squared_error(ytest, test_predict))"
   ]
  },
  {
   "cell_type": "code",
   "execution_count": 32,
   "id": "1a18aaf3",
   "metadata": {},
   "outputs": [
    {
     "data": {
      "image/png": "[encoded data removed]",
      "text/plain": [
       "<Figure size 432x288 with 1 Axes>"
      ]
     },
     "metadata": {
      "needs_background": "light"
     },
     "output_type": "display_data"
    }
   ],
   "source": [
    "import numpy as np\n",
    "# shift train predictions for plotting\n",
    "look_back = 100\n",
    "trainPredictPlot = np.empty_like(df1)\n",
    "trainPredictPlot[:, :] = np.nan\n",
    "trainPredictPlot[look_back:len(train_predict)+look_back, :] = train_predict\n",
    "# shift test predictions for plotting\n",
    "testPredictPlot = np.empty_like(df1)\n",
    "testPredictPlot[:, :] = np.nan\n",
    "testPredictPlot[len(train_predict)+(look_back*2)+1:len(df1)-1, :] = test_predict\n",
    "# plot baseline and predictions\n",
    "plt.plot(scaler.inverse_transform(df1))\n",
    "plt.plot(trainPredictPlot)\n",
    "plt.plot(testPredictPlot)\n",
    "plt.show()"
   ]
  },
  {
   "cell_type": "code",
   "execution_count": 33,
   "id": "ae469dc8",
   "metadata": {},
   "outputs": [
    {
     "data": {
      "text/plain": [
       "441"
      ]
     },
     "execution_count": 33,
     "metadata": {},
     "output_type": "execute_result"
    }
   ],
   "source": [
    "len(test_data)"
   ]
  },
  {
   "cell_type": "code",
   "execution_count": 34,
   "id": "62e6f3d8",
   "metadata": {},
   "outputs": [
    {
     "data": {
      "text/plain": [
       "(1, 100)"
      ]
     },
     "execution_count": 34,
     "metadata": {},
     "output_type": "execute_result"
    }
   ],
   "source": [
    "x_input=test_data[341:].reshape(1,-1)\n",
    "x_input.shape"
   ]
  },
  {
   "cell_type": "code",
   "execution_count": 35,
   "id": "306efb3a",
   "metadata": {},
   "outputs": [],
   "source": [
    "temp_input=list(x_input)\n",
    "temp_input=temp_input[0].tolist()"
   ]
  },
  {
   "cell_type": "code",
   "execution_count": 36,
   "id": "f2a7af97",
   "metadata": {},
   "outputs": [
    {
     "data": {
      "text/plain": [
       "[0.9002229971214315,\n",
       " 0.9263039648018936,\n",
       " 0.9813879314091611,\n",
       " 0.9883553377219523,\n",
       " 1.0,\n",
       " 0.995964654789089,\n",
       " 0.9957005352599573,\n",
       " 0.9819295436081403,\n",
       " 0.9833738428054175,\n",
       " 0.9664969392224187,\n",
       " 0.9472496464475924,\n",
       " 0.939212388877559,\n",
       " 0.9471025418997217,\n",
       " 0.9511178273995593,\n",
       " 0.9687804029995957,\n",
       " 0.9750022567174956,\n",
       " 0.9894385621199104,\n",
       " 0.9648888190513762,\n",
       " 0.9662027301266771,\n",
       " 0.9560391431828743,\n",
       " 0.864991457906368,\n",
       " 0.8662919958409532,\n",
       " 0.8779132551227486,\n",
       " 0.8740617905966761,\n",
       " 0.881172958172159,\n",
       " 0.8707920576917292,\n",
       " 0.8697656691418121,\n",
       " 0.8626812478477601,\n",
       " 0.853129482091693,\n",
       " 0.85693748391044,\n",
       " 0.8537513331349651,\n",
       " 0.8554296622947641,\n",
       " 0.8363629069195975,\n",
       " 0.8227423631008302,\n",
       " 0.8182389579648754,\n",
       " 0.822317765883112,\n",
       " 0.8443567017823053,\n",
       " 0.8576997529312254,\n",
       " 0.8554931847131628,\n",
       " 0.8611165903840432,\n",
       " 0.872360058440625,\n",
       " 0.8964116520175056,\n",
       " 0.9128673016679649,\n",
       " 0.9156121387998275,\n",
       " 0.9103030019357621,\n",
       " 0.9152945267078338,\n",
       " 0.9257389496066626,\n",
       " 0.931158414881631,\n",
       " 0.9173372739521308,\n",
       " 0.9123190028986283,\n",
       " 0.908313747254327,\n",
       " 0.9059166117810684,\n",
       " 0.9145389442574063,\n",
       " 0.9187013343051149,\n",
       " 0.9101024048250292,\n",
       " 0.8743994623997433,\n",
       " 0.8703540873332956,\n",
       " 0.8825303319547855,\n",
       " 0.8945494421728679,\n",
       " 0.8977322496631641,\n",
       " 0.8911392912904079,\n",
       " 0.8611032172433277,\n",
       " 0.8561417820378661,\n",
       " 0.850765779470223,\n",
       " 0.8501706747083821,\n",
       " 0.8189176448561888,\n",
       " 0.8293553811846597,\n",
       " 0.8430661937032569,\n",
       " 0.8565797523962997,\n",
       " 0.8519626755642629,\n",
       " 0.8378138926872325,\n",
       " 0.8381582510606573,\n",
       " 0.8505116897966281,\n",
       " 0.8557205281053268,\n",
       " 0.892215829118008,\n",
       " 0.9048267008127526,\n",
       " 0.9039607899514222,\n",
       " 0.894235173366053,\n",
       " 0.9009050272979235,\n",
       " 0.8676527129087586,\n",
       " 0.8625776060072148,\n",
       " 0.8811997044535902,\n",
       " 0.8866893787173151,\n",
       " 0.9047698649647118,\n",
       " 0.879982748648477,\n",
       " 0.8618220235567875,\n",
       " 0.8600300227009063,\n",
       " 0.883850929600444,\n",
       " 0.9149434817640509,\n",
       " 0.9289819362301786,\n",
       " 0.9189487374083523,\n",
       " 0.9481189005941018,\n",
       " 0.9166318407793868,\n",
       " 0.913439003433554,\n",
       " 0.9310413999003702,\n",
       " 0.9379051643726157,\n",
       " 0.9362402083535324,\n",
       " 0.9390151350520048,\n",
       " 0.9881814868926504,\n",
       " 0.9816654240790086]"
      ]
     },
     "execution_count": 36,
     "metadata": {},
     "output_type": "execute_result"
    }
   ],
   "source": [
    "temp_input"
   ]
  },
  {
   "cell_type": "code",
   "execution_count": 37,
   "id": "064ea20e",
   "metadata": {},
   "outputs": [
    {
     "name": "stdout",
     "output_type": "stream",
     "text": [
      "[0.95937586]\n",
      "101\n",
      "1 day input [0.92630396 0.98138793 0.98835534 1.         0.99596465 0.99570054\n",
      " 0.98192954 0.98337384 0.96649694 0.94724965 0.93921239 0.94710254\n",
      " 0.95111783 0.9687804  0.97500226 0.98943856 0.96488882 0.96620273\n",
      " 0.95603914 0.86499146 0.866292   0.87791326 0.87406179 0.88117296\n",
      " 0.87079206 0.86976567 0.86268125 0.85312948 0.85693748 0.85375133\n",
      " 0.85542966 0.83636291 0.82274236 0.81823896 0.82231777 0.8443567\n",
      " 0.85769975 0.85549318 0.86111659 0.87236006 0.89641165 0.9128673\n",
      " 0.91561214 0.910303   0.91529453 0.92573895 0.93115841 0.91733727\n",
      " 0.912319   0.90831375 0.90591661 0.91453894 0.91870133 0.9101024\n",
      " 0.87439946 0.87035409 0.88253033 0.89454944 0.89773225 0.89113929\n",
      " 0.86110322 0.85614178 0.85076578 0.85017067 0.81891764 0.82935538\n",
      " 0.84306619 0.85657975 0.85196268 0.83781389 0.83815825 0.85051169\n",
      " 0.85572053 0.89221583 0.9048267  0.90396079 0.89423517 0.90090503\n",
      " 0.86765271 0.86257761 0.8811997  0.88668938 0.90476986 0.87998275\n",
      " 0.86182202 0.86003002 0.88385093 0.91494348 0.92898194 0.91894874\n",
      " 0.9481189  0.91663184 0.913439   0.9310414  0.93790516 0.93624021\n",
      " 0.93901514 0.98818149 0.98166542 0.95937586]\n",
      "1 day output [[0.969283]]\n",
      "2 day input [0.98138793 0.98835534 1.         0.99596465 0.99570054 0.98192954\n",
      " 0.98337384 0.96649694 0.94724965 0.93921239 0.94710254 0.95111783\n",
      " 0.9687804  0.97500226 0.98943856 0.96488882 0.96620273 0.95603914\n",
      " 0.86499146 0.866292   0.87791326 0.87406179 0.88117296 0.87079206\n",
      " 0.86976567 0.86268125 0.85312948 0.85693748 0.85375133 0.85542966\n",
      " 0.83636291 0.82274236 0.81823896 0.82231777 0.8443567  0.85769975\n",
      " 0.85549318 0.86111659 0.87236006 0.89641165 0.9128673  0.91561214\n",
      " 0.910303   0.91529453 0.92573895 0.93115841 0.91733727 0.912319\n",
      " 0.90831375 0.90591661 0.91453894 0.91870133 0.9101024  0.87439946\n",
      " 0.87035409 0.88253033 0.89454944 0.89773225 0.89113929 0.86110322\n",
      " 0.85614178 0.85076578 0.85017067 0.81891764 0.82935538 0.84306619\n",
      " 0.85657975 0.85196268 0.83781389 0.83815825 0.85051169 0.85572053\n",
      " 0.89221583 0.9048267  0.90396079 0.89423517 0.90090503 0.86765271\n",
      " 0.86257761 0.8811997  0.88668938 0.90476986 0.87998275 0.86182202\n",
      " 0.86003002 0.88385093 0.91494348 0.92898194 0.91894874 0.9481189\n",
      " 0.91663184 0.913439   0.9310414  0.93790516 0.93624021 0.93901514\n",
      " 0.98818149 0.98166542 0.95937586 0.96928298]\n",
      "2 day output [[0.9715092]]\n",
      "3 day input [0.98835534 1.         0.99596465 0.99570054 0.98192954 0.98337384\n",
      " 0.96649694 0.94724965 0.93921239 0.94710254 0.95111783 0.9687804\n",
      " 0.97500226 0.98943856 0.96488882 0.96620273 0.95603914 0.86499146\n",
      " 0.866292   0.87791326 0.87406179 0.88117296 0.87079206 0.86976567\n",
      " 0.86268125 0.85312948 0.85693748 0.85375133 0.85542966 0.83636291\n",
      " 0.82274236 0.81823896 0.82231777 0.8443567  0.85769975 0.85549318\n",
      " 0.86111659 0.87236006 0.89641165 0.9128673  0.91561214 0.910303\n",
      " 0.91529453 0.92573895 0.93115841 0.91733727 0.912319   0.90831375\n",
      " 0.90591661 0.91453894 0.91870133 0.9101024  0.87439946 0.87035409\n",
      " 0.88253033 0.89454944 0.89773225 0.89113929 0.86110322 0.85614178\n",
      " 0.85076578 0.85017067 0.81891764 0.82935538 0.84306619 0.85657975\n",
      " 0.85196268 0.83781389 0.83815825 0.85051169 0.85572053 0.89221583\n",
      " 0.9048267  0.90396079 0.89423517 0.90090503 0.86765271 0.86257761\n",
      " 0.8811997  0.88668938 0.90476986 0.87998275 0.86182202 0.86003002\n",
      " 0.88385093 0.91494348 0.92898194 0.91894874 0.9481189  0.91663184\n",
      " 0.913439   0.9310414  0.93790516 0.93624021 0.93901514 0.98818149\n",
      " 0.98166542 0.95937586 0.96928298 0.97150922]\n",
      "3 day output [[0.96960205]]\n",
      "4 day input [1.         0.99596465 0.99570054 0.98192954 0.98337384 0.96649694\n",
      " 0.94724965 0.93921239 0.94710254 0.95111783 0.9687804  0.97500226\n",
      " 0.98943856 0.96488882 0.96620273 0.95603914 0.86499146 0.866292\n",
      " 0.87791326 0.87406179 0.88117296 0.87079206 0.86976567 0.86268125\n",
      " 0.85312948 0.85693748 0.85375133 0.85542966 0.83636291 0.82274236\n",
      " 0.81823896 0.82231777 0.8443567  0.85769975 0.85549318 0.86111659\n",
      " 0.87236006 0.89641165 0.9128673  0.91561214 0.910303   0.91529453\n",
      " 0.92573895 0.93115841 0.91733727 0.912319   0.90831375 0.90591661\n",
      " 0.91453894 0.91870133 0.9101024  0.87439946 0.87035409 0.88253033\n",
      " 0.89454944 0.89773225 0.89113929 0.86110322 0.85614178 0.85076578\n",
      " 0.85017067 0.81891764 0.82935538 0.84306619 0.85657975 0.85196268\n",
      " 0.83781389 0.83815825 0.85051169 0.85572053 0.89221583 0.9048267\n",
      " 0.90396079 0.89423517 0.90090503 0.86765271 0.86257761 0.8811997\n",
      " 0.88668938 0.90476986 0.87998275 0.86182202 0.86003002 0.88385093\n",
      " 0.91494348 0.92898194 0.91894874 0.9481189  0.91663184 0.913439\n",
      " 0.9310414  0.93790516 0.93624021 0.93901514 0.98818149 0.98166542\n",
      " 0.95937586 0.96928298 0.97150922 0.96960205]\n",
      "4 day output [[0.965979]]\n",
      "5 day input [0.99596465 0.99570054 0.98192954 0.98337384 0.96649694 0.94724965\n",
      " 0.93921239 0.94710254 0.95111783 0.9687804  0.97500226 0.98943856\n",
      " 0.96488882 0.96620273 0.95603914 0.86499146 0.866292   0.87791326\n",
      " 0.87406179 0.88117296 0.87079206 0.86976567 0.86268125 0.85312948\n",
      " 0.85693748 0.85375133 0.85542966 0.83636291 0.82274236 0.81823896\n",
      " 0.82231777 0.8443567  0.85769975 0.85549318 0.86111659 0.87236006\n",
      " 0.89641165 0.9128673  0.91561214 0.910303   0.91529453 0.92573895\n",
      " 0.93115841 0.91733727 0.912319   0.90831375 0.90591661 0.91453894\n",
      " 0.91870133 0.9101024  0.87439946 0.87035409 0.88253033 0.89454944\n",
      " 0.89773225 0.89113929 0.86110322 0.85614178 0.85076578 0.85017067\n",
      " 0.81891764 0.82935538 0.84306619 0.85657975 0.85196268 0.83781389\n",
      " 0.83815825 0.85051169 0.85572053 0.89221583 0.9048267  0.90396079\n",
      " 0.89423517 0.90090503 0.86765271 0.86257761 0.8811997  0.88668938\n",
      " 0.90476986 0.87998275 0.86182202 0.86003002 0.88385093 0.91494348\n",
      " 0.92898194 0.91894874 0.9481189  0.91663184 0.913439   0.9310414\n",
      " 0.93790516 0.93624021 0.93901514 0.98818149 0.98166542 0.95937586\n",
      " 0.96928298 0.97150922 0.96960205 0.96597898]\n",
      "5 day output [[0.9618533]]\n",
      "6 day input [0.99570054 0.98192954 0.98337384 0.96649694 0.94724965 0.93921239\n",
      " 0.94710254 0.95111783 0.9687804  0.97500226 0.98943856 0.96488882\n",
      " 0.96620273 0.95603914 0.86499146 0.866292   0.87791326 0.87406179\n",
      " 0.88117296 0.87079206 0.86976567 0.86268125 0.85312948 0.85693748\n",
      " 0.85375133 0.85542966 0.83636291 0.82274236 0.81823896 0.82231777\n",
      " 0.8443567  0.85769975 0.85549318 0.86111659 0.87236006 0.89641165\n",
      " 0.9128673  0.91561214 0.910303   0.91529453 0.92573895 0.93115841\n",
      " 0.91733727 0.912319   0.90831375 0.90591661 0.91453894 0.91870133\n",
      " 0.9101024  0.87439946 0.87035409 0.88253033 0.89454944 0.89773225\n",
      " 0.89113929 0.86110322 0.85614178 0.85076578 0.85017067 0.81891764\n",
      " 0.82935538 0.84306619 0.85657975 0.85196268 0.83781389 0.83815825\n",
      " 0.85051169 0.85572053 0.89221583 0.9048267  0.90396079 0.89423517\n",
      " 0.90090503 0.86765271 0.86257761 0.8811997  0.88668938 0.90476986\n",
      " 0.87998275 0.86182202 0.86003002 0.88385093 0.91494348 0.92898194\n",
      " 0.91894874 0.9481189  0.91663184 0.913439   0.9310414  0.93790516\n",
      " 0.93624021 0.93901514 0.98818149 0.98166542 0.95937586 0.96928298\n",
      " 0.97150922 0.96960205 0.96597898 0.96185333]\n",
      "6 day output [[0.95775884]]\n",
      "7 day input [0.98192954 0.98337384 0.96649694 0.94724965 0.93921239 0.94710254\n",
      " 0.95111783 0.9687804  0.97500226 0.98943856 0.96488882 0.96620273\n",
      " 0.95603914 0.86499146 0.866292   0.87791326 0.87406179 0.88117296\n",
      " 0.87079206 0.86976567 0.86268125 0.85312948 0.85693748 0.85375133\n",
      " 0.85542966 0.83636291 0.82274236 0.81823896 0.82231777 0.8443567\n",
      " 0.85769975 0.85549318 0.86111659 0.87236006 0.89641165 0.9128673\n",
      " 0.91561214 0.910303   0.91529453 0.92573895 0.93115841 0.91733727\n",
      " 0.912319   0.90831375 0.90591661 0.91453894 0.91870133 0.9101024\n",
      " 0.87439946 0.87035409 0.88253033 0.89454944 0.89773225 0.89113929\n",
      " 0.86110322 0.85614178 0.85076578 0.85017067 0.81891764 0.82935538\n",
      " 0.84306619 0.85657975 0.85196268 0.83781389 0.83815825 0.85051169\n",
      " 0.85572053 0.89221583 0.9048267  0.90396079 0.89423517 0.90090503\n",
      " 0.86765271 0.86257761 0.8811997  0.88668938 0.90476986 0.87998275\n",
      " 0.86182202 0.86003002 0.88385093 0.91494348 0.92898194 0.91894874\n",
      " 0.9481189  0.91663184 0.913439   0.9310414  0.93790516 0.93624021\n",
      " 0.93901514 0.98818149 0.98166542 0.95937586 0.96928298 0.97150922\n",
      " 0.96960205 0.96597898 0.96185333 0.95775884]\n",
      "7 day output [[0.9539533]]\n",
      "8 day input [0.98337384 0.96649694 0.94724965 0.93921239 0.94710254 0.95111783\n",
      " 0.9687804  0.97500226 0.98943856 0.96488882 0.96620273 0.95603914\n",
      " 0.86499146 0.866292   0.87791326 0.87406179 0.88117296 0.87079206\n",
      " 0.86976567 0.86268125 0.85312948 0.85693748 0.85375133 0.85542966\n",
      " 0.83636291 0.82274236 0.81823896 0.82231777 0.8443567  0.85769975\n",
      " 0.85549318 0.86111659 0.87236006 0.89641165 0.9128673  0.91561214\n",
      " 0.910303   0.91529453 0.92573895 0.93115841 0.91733727 0.912319\n",
      " 0.90831375 0.90591661 0.91453894 0.91870133 0.9101024  0.87439946\n",
      " 0.87035409 0.88253033 0.89454944 0.89773225 0.89113929 0.86110322\n",
      " 0.85614178 0.85076578 0.85017067 0.81891764 0.82935538 0.84306619\n",
      " 0.85657975 0.85196268 0.83781389 0.83815825 0.85051169 0.85572053\n",
      " 0.89221583 0.9048267  0.90396079 0.89423517 0.90090503 0.86765271\n",
      " 0.86257761 0.8811997  0.88668938 0.90476986 0.87998275 0.86182202\n",
      " 0.86003002 0.88385093 0.91494348 0.92898194 0.91894874 0.9481189\n",
      " 0.91663184 0.913439   0.9310414  0.93790516 0.93624021 0.93901514\n",
      " 0.98818149 0.98166542 0.95937586 0.96928298 0.97150922 0.96960205\n",
      " 0.96597898 0.96185333 0.95775884 0.95395333]\n",
      "8 day output [[0.9506052]]\n",
      "9 day input [0.96649694 0.94724965 0.93921239 0.94710254 0.95111783 0.9687804\n",
      " 0.97500226 0.98943856 0.96488882 0.96620273 0.95603914 0.86499146\n",
      " 0.866292   0.87791326 0.87406179 0.88117296 0.87079206 0.86976567\n",
      " 0.86268125 0.85312948 0.85693748 0.85375133 0.85542966 0.83636291\n",
      " 0.82274236 0.81823896 0.82231777 0.8443567  0.85769975 0.85549318\n",
      " 0.86111659 0.87236006 0.89641165 0.9128673  0.91561214 0.910303\n",
      " 0.91529453 0.92573895 0.93115841 0.91733727 0.912319   0.90831375\n",
      " 0.90591661 0.91453894 0.91870133 0.9101024  0.87439946 0.87035409\n",
      " 0.88253033 0.89454944 0.89773225 0.89113929 0.86110322 0.85614178\n",
      " 0.85076578 0.85017067 0.81891764 0.82935538 0.84306619 0.85657975\n",
      " 0.85196268 0.83781389 0.83815825 0.85051169 0.85572053 0.89221583\n",
      " 0.9048267  0.90396079 0.89423517 0.90090503 0.86765271 0.86257761\n",
      " 0.8811997  0.88668938 0.90476986 0.87998275 0.86182202 0.86003002\n",
      " 0.88385093 0.91494348 0.92898194 0.91894874 0.9481189  0.91663184\n",
      " 0.913439   0.9310414  0.93790516 0.93624021 0.93901514 0.98818149\n",
      " 0.98166542 0.95937586 0.96928298 0.97150922 0.96960205 0.96597898\n",
      " 0.96185333 0.95775884 0.95395333 0.95060521]\n"
     ]
    },
    {
     "name": "stdout",
     "output_type": "stream",
     "text": [
      "9 day output [[0.9478434]]\n",
      "10 day input [0.94724965 0.93921239 0.94710254 0.95111783 0.9687804  0.97500226\n",
      " 0.98943856 0.96488882 0.96620273 0.95603914 0.86499146 0.866292\n",
      " 0.87791326 0.87406179 0.88117296 0.87079206 0.86976567 0.86268125\n",
      " 0.85312948 0.85693748 0.85375133 0.85542966 0.83636291 0.82274236\n",
      " 0.81823896 0.82231777 0.8443567  0.85769975 0.85549318 0.86111659\n",
      " 0.87236006 0.89641165 0.9128673  0.91561214 0.910303   0.91529453\n",
      " 0.92573895 0.93115841 0.91733727 0.912319   0.90831375 0.90591661\n",
      " 0.91453894 0.91870133 0.9101024  0.87439946 0.87035409 0.88253033\n",
      " 0.89454944 0.89773225 0.89113929 0.86110322 0.85614178 0.85076578\n",
      " 0.85017067 0.81891764 0.82935538 0.84306619 0.85657975 0.85196268\n",
      " 0.83781389 0.83815825 0.85051169 0.85572053 0.89221583 0.9048267\n",
      " 0.90396079 0.89423517 0.90090503 0.86765271 0.86257761 0.8811997\n",
      " 0.88668938 0.90476986 0.87998275 0.86182202 0.86003002 0.88385093\n",
      " 0.91494348 0.92898194 0.91894874 0.9481189  0.91663184 0.913439\n",
      " 0.9310414  0.93790516 0.93624021 0.93901514 0.98818149 0.98166542\n",
      " 0.95937586 0.96928298 0.97150922 0.96960205 0.96597898 0.96185333\n",
      " 0.95775884 0.95395333 0.95060521 0.94784337]\n",
      "10 day output [[0.94575524]]\n",
      "11 day input [0.93921239 0.94710254 0.95111783 0.9687804  0.97500226 0.98943856\n",
      " 0.96488882 0.96620273 0.95603914 0.86499146 0.866292   0.87791326\n",
      " 0.87406179 0.88117296 0.87079206 0.86976567 0.86268125 0.85312948\n",
      " 0.85693748 0.85375133 0.85542966 0.83636291 0.82274236 0.81823896\n",
      " 0.82231777 0.8443567  0.85769975 0.85549318 0.86111659 0.87236006\n",
      " 0.89641165 0.9128673  0.91561214 0.910303   0.91529453 0.92573895\n",
      " 0.93115841 0.91733727 0.912319   0.90831375 0.90591661 0.91453894\n",
      " 0.91870133 0.9101024  0.87439946 0.87035409 0.88253033 0.89454944\n",
      " 0.89773225 0.89113929 0.86110322 0.85614178 0.85076578 0.85017067\n",
      " 0.81891764 0.82935538 0.84306619 0.85657975 0.85196268 0.83781389\n",
      " 0.83815825 0.85051169 0.85572053 0.89221583 0.9048267  0.90396079\n",
      " 0.89423517 0.90090503 0.86765271 0.86257761 0.8811997  0.88668938\n",
      " 0.90476986 0.87998275 0.86182202 0.86003002 0.88385093 0.91494348\n",
      " 0.92898194 0.91894874 0.9481189  0.91663184 0.913439   0.9310414\n",
      " 0.93790516 0.93624021 0.93901514 0.98818149 0.98166542 0.95937586\n",
      " 0.96928298 0.97150922 0.96960205 0.96597898 0.96185333 0.95775884\n",
      " 0.95395333 0.95060521 0.94784337 0.94575524]\n",
      "11 day output [[0.94437236]]\n",
      "12 day input [0.94710254 0.95111783 0.9687804  0.97500226 0.98943856 0.96488882\n",
      " 0.96620273 0.95603914 0.86499146 0.866292   0.87791326 0.87406179\n",
      " 0.88117296 0.87079206 0.86976567 0.86268125 0.85312948 0.85693748\n",
      " 0.85375133 0.85542966 0.83636291 0.82274236 0.81823896 0.82231777\n",
      " 0.8443567  0.85769975 0.85549318 0.86111659 0.87236006 0.89641165\n",
      " 0.9128673  0.91561214 0.910303   0.91529453 0.92573895 0.93115841\n",
      " 0.91733727 0.912319   0.90831375 0.90591661 0.91453894 0.91870133\n",
      " 0.9101024  0.87439946 0.87035409 0.88253033 0.89454944 0.89773225\n",
      " 0.89113929 0.86110322 0.85614178 0.85076578 0.85017067 0.81891764\n",
      " 0.82935538 0.84306619 0.85657975 0.85196268 0.83781389 0.83815825\n",
      " 0.85051169 0.85572053 0.89221583 0.9048267  0.90396079 0.89423517\n",
      " 0.90090503 0.86765271 0.86257761 0.8811997  0.88668938 0.90476986\n",
      " 0.87998275 0.86182202 0.86003002 0.88385093 0.91494348 0.92898194\n",
      " 0.91894874 0.9481189  0.91663184 0.913439   0.9310414  0.93790516\n",
      " 0.93624021 0.93901514 0.98818149 0.98166542 0.95937586 0.96928298\n",
      " 0.97150922 0.96960205 0.96597898 0.96185333 0.95775884 0.95395333\n",
      " 0.95060521 0.94784337 0.94575524 0.94437236]\n",
      "12 day output [[0.9436725]]\n",
      "13 day input [0.95111783 0.9687804  0.97500226 0.98943856 0.96488882 0.96620273\n",
      " 0.95603914 0.86499146 0.866292   0.87791326 0.87406179 0.88117296\n",
      " 0.87079206 0.86976567 0.86268125 0.85312948 0.85693748 0.85375133\n",
      " 0.85542966 0.83636291 0.82274236 0.81823896 0.82231777 0.8443567\n",
      " 0.85769975 0.85549318 0.86111659 0.87236006 0.89641165 0.9128673\n",
      " 0.91561214 0.910303   0.91529453 0.92573895 0.93115841 0.91733727\n",
      " 0.912319   0.90831375 0.90591661 0.91453894 0.91870133 0.9101024\n",
      " 0.87439946 0.87035409 0.88253033 0.89454944 0.89773225 0.89113929\n",
      " 0.86110322 0.85614178 0.85076578 0.85017067 0.81891764 0.82935538\n",
      " 0.84306619 0.85657975 0.85196268 0.83781389 0.83815825 0.85051169\n",
      " 0.85572053 0.89221583 0.9048267  0.90396079 0.89423517 0.90090503\n",
      " 0.86765271 0.86257761 0.8811997  0.88668938 0.90476986 0.87998275\n",
      " 0.86182202 0.86003002 0.88385093 0.91494348 0.92898194 0.91894874\n",
      " 0.9481189  0.91663184 0.913439   0.9310414  0.93790516 0.93624021\n",
      " 0.93901514 0.98818149 0.98166542 0.95937586 0.96928298 0.97150922\n",
      " 0.96960205 0.96597898 0.96185333 0.95775884 0.95395333 0.95060521\n",
      " 0.94784337 0.94575524 0.94437236 0.94367248]\n",
      "13 day output [[0.9435821]]\n",
      "14 day input [0.9687804  0.97500226 0.98943856 0.96488882 0.96620273 0.95603914\n",
      " 0.86499146 0.866292   0.87791326 0.87406179 0.88117296 0.87079206\n",
      " 0.86976567 0.86268125 0.85312948 0.85693748 0.85375133 0.85542966\n",
      " 0.83636291 0.82274236 0.81823896 0.82231777 0.8443567  0.85769975\n",
      " 0.85549318 0.86111659 0.87236006 0.89641165 0.9128673  0.91561214\n",
      " 0.910303   0.91529453 0.92573895 0.93115841 0.91733727 0.912319\n",
      " 0.90831375 0.90591661 0.91453894 0.91870133 0.9101024  0.87439946\n",
      " 0.87035409 0.88253033 0.89454944 0.89773225 0.89113929 0.86110322\n",
      " 0.85614178 0.85076578 0.85017067 0.81891764 0.82935538 0.84306619\n",
      " 0.85657975 0.85196268 0.83781389 0.83815825 0.85051169 0.85572053\n",
      " 0.89221583 0.9048267  0.90396079 0.89423517 0.90090503 0.86765271\n",
      " 0.86257761 0.8811997  0.88668938 0.90476986 0.87998275 0.86182202\n",
      " 0.86003002 0.88385093 0.91494348 0.92898194 0.91894874 0.9481189\n",
      " 0.91663184 0.913439   0.9310414  0.93790516 0.93624021 0.93901514\n",
      " 0.98818149 0.98166542 0.95937586 0.96928298 0.97150922 0.96960205\n",
      " 0.96597898 0.96185333 0.95775884 0.95395333 0.95060521 0.94784337\n",
      " 0.94575524 0.94437236 0.94367248 0.94358212]\n",
      "14 day output [[0.94399136]]\n",
      "15 day input [0.97500226 0.98943856 0.96488882 0.96620273 0.95603914 0.86499146\n",
      " 0.866292   0.87791326 0.87406179 0.88117296 0.87079206 0.86976567\n",
      " 0.86268125 0.85312948 0.85693748 0.85375133 0.85542966 0.83636291\n",
      " 0.82274236 0.81823896 0.82231777 0.8443567  0.85769975 0.85549318\n",
      " 0.86111659 0.87236006 0.89641165 0.9128673  0.91561214 0.910303\n",
      " 0.91529453 0.92573895 0.93115841 0.91733727 0.912319   0.90831375\n",
      " 0.90591661 0.91453894 0.91870133 0.9101024  0.87439946 0.87035409\n",
      " 0.88253033 0.89454944 0.89773225 0.89113929 0.86110322 0.85614178\n",
      " 0.85076578 0.85017067 0.81891764 0.82935538 0.84306619 0.85657975\n",
      " 0.85196268 0.83781389 0.83815825 0.85051169 0.85572053 0.89221583\n",
      " 0.9048267  0.90396079 0.89423517 0.90090503 0.86765271 0.86257761\n",
      " 0.8811997  0.88668938 0.90476986 0.87998275 0.86182202 0.86003002\n",
      " 0.88385093 0.91494348 0.92898194 0.91894874 0.9481189  0.91663184\n",
      " 0.913439   0.9310414  0.93790516 0.93624021 0.93901514 0.98818149\n",
      " 0.98166542 0.95937586 0.96928298 0.97150922 0.96960205 0.96597898\n",
      " 0.96185333 0.95775884 0.95395333 0.95060521 0.94784337 0.94575524\n",
      " 0.94437236 0.94367248 0.94358212 0.94399136]\n",
      "15 day output [[0.9447659]]\n",
      "16 day input [0.98943856 0.96488882 0.96620273 0.95603914 0.86499146 0.866292\n",
      " 0.87791326 0.87406179 0.88117296 0.87079206 0.86976567 0.86268125\n",
      " 0.85312948 0.85693748 0.85375133 0.85542966 0.83636291 0.82274236\n",
      " 0.81823896 0.82231777 0.8443567  0.85769975 0.85549318 0.86111659\n",
      " 0.87236006 0.89641165 0.9128673  0.91561214 0.910303   0.91529453\n",
      " 0.92573895 0.93115841 0.91733727 0.912319   0.90831375 0.90591661\n",
      " 0.91453894 0.91870133 0.9101024  0.87439946 0.87035409 0.88253033\n",
      " 0.89454944 0.89773225 0.89113929 0.86110322 0.85614178 0.85076578\n",
      " 0.85017067 0.81891764 0.82935538 0.84306619 0.85657975 0.85196268\n",
      " 0.83781389 0.83815825 0.85051169 0.85572053 0.89221583 0.9048267\n",
      " 0.90396079 0.89423517 0.90090503 0.86765271 0.86257761 0.8811997\n",
      " 0.88668938 0.90476986 0.87998275 0.86182202 0.86003002 0.88385093\n",
      " 0.91494348 0.92898194 0.91894874 0.9481189  0.91663184 0.913439\n",
      " 0.9310414  0.93790516 0.93624021 0.93901514 0.98818149 0.98166542\n",
      " 0.95937586 0.96928298 0.97150922 0.96960205 0.96597898 0.96185333\n",
      " 0.95775884 0.95395333 0.95060521 0.94784337 0.94575524 0.94437236\n",
      " 0.94367248 0.94358212 0.94399136 0.94476593]\n",
      "16 day output [[0.9457619]]\n",
      "17 day input [0.96488882 0.96620273 0.95603914 0.86499146 0.866292   0.87791326\n",
      " 0.87406179 0.88117296 0.87079206 0.86976567 0.86268125 0.85312948\n",
      " 0.85693748 0.85375133 0.85542966 0.83636291 0.82274236 0.81823896\n",
      " 0.82231777 0.8443567  0.85769975 0.85549318 0.86111659 0.87236006\n",
      " 0.89641165 0.9128673  0.91561214 0.910303   0.91529453 0.92573895\n",
      " 0.93115841 0.91733727 0.912319   0.90831375 0.90591661 0.91453894\n",
      " 0.91870133 0.9101024  0.87439946 0.87035409 0.88253033 0.89454944\n",
      " 0.89773225 0.89113929 0.86110322 0.85614178 0.85076578 0.85017067\n",
      " 0.81891764 0.82935538 0.84306619 0.85657975 0.85196268 0.83781389\n",
      " 0.83815825 0.85051169 0.85572053 0.89221583 0.9048267  0.90396079\n",
      " 0.89423517 0.90090503 0.86765271 0.86257761 0.8811997  0.88668938\n",
      " 0.90476986 0.87998275 0.86182202 0.86003002 0.88385093 0.91494348\n",
      " 0.92898194 0.91894874 0.9481189  0.91663184 0.913439   0.9310414\n",
      " 0.93790516 0.93624021 0.93901514 0.98818149 0.98166542 0.95937586\n",
      " 0.96928298 0.97150922 0.96960205 0.96597898 0.96185333 0.95775884\n",
      " 0.95395333 0.95060521 0.94784337 0.94575524 0.94437236 0.94367248\n",
      " 0.94358212 0.94399136 0.94476593 0.94576192]\n",
      "17 day output [[0.9468383]]\n",
      "18 day input [0.96620273 0.95603914 0.86499146 0.866292   0.87791326 0.87406179\n",
      " 0.88117296 0.87079206 0.86976567 0.86268125 0.85312948 0.85693748\n",
      " 0.85375133 0.85542966 0.83636291 0.82274236 0.81823896 0.82231777\n",
      " 0.8443567  0.85769975 0.85549318 0.86111659 0.87236006 0.89641165\n",
      " 0.9128673  0.91561214 0.910303   0.91529453 0.92573895 0.93115841\n",
      " 0.91733727 0.912319   0.90831375 0.90591661 0.91453894 0.91870133\n",
      " 0.9101024  0.87439946 0.87035409 0.88253033 0.89454944 0.89773225\n",
      " 0.89113929 0.86110322 0.85614178 0.85076578 0.85017067 0.81891764\n",
      " 0.82935538 0.84306619 0.85657975 0.85196268 0.83781389 0.83815825\n",
      " 0.85051169 0.85572053 0.89221583 0.9048267  0.90396079 0.89423517\n",
      " 0.90090503 0.86765271 0.86257761 0.8811997  0.88668938 0.90476986\n",
      " 0.87998275 0.86182202 0.86003002 0.88385093 0.91494348 0.92898194\n",
      " 0.91894874 0.9481189  0.91663184 0.913439   0.9310414  0.93790516\n",
      " 0.93624021 0.93901514 0.98818149 0.98166542 0.95937586 0.96928298\n",
      " 0.97150922 0.96960205 0.96597898 0.96185333 0.95775884 0.95395333\n",
      " 0.95060521 0.94784337 0.94575524 0.94437236 0.94367248 0.94358212\n",
      " 0.94399136 0.94476593 0.94576192 0.94683832]\n",
      "18 day output [[0.9478669]]\n",
      "19 day input [0.95603914 0.86499146 0.866292   0.87791326 0.87406179 0.88117296\n",
      " 0.87079206 0.86976567 0.86268125 0.85312948 0.85693748 0.85375133\n",
      " 0.85542966 0.83636291 0.82274236 0.81823896 0.82231777 0.8443567\n",
      " 0.85769975 0.85549318 0.86111659 0.87236006 0.89641165 0.9128673\n",
      " 0.91561214 0.910303   0.91529453 0.92573895 0.93115841 0.91733727\n",
      " 0.912319   0.90831375 0.90591661 0.91453894 0.91870133 0.9101024\n",
      " 0.87439946 0.87035409 0.88253033 0.89454944 0.89773225 0.89113929\n",
      " 0.86110322 0.85614178 0.85076578 0.85017067 0.81891764 0.82935538\n",
      " 0.84306619 0.85657975 0.85196268 0.83781389 0.83815825 0.85051169\n",
      " 0.85572053 0.89221583 0.9048267  0.90396079 0.89423517 0.90090503\n",
      " 0.86765271 0.86257761 0.8811997  0.88668938 0.90476986 0.87998275\n",
      " 0.86182202 0.86003002 0.88385093 0.91494348 0.92898194 0.91894874\n",
      " 0.9481189  0.91663184 0.913439   0.9310414  0.93790516 0.93624021\n",
      " 0.93901514 0.98818149 0.98166542 0.95937586 0.96928298 0.97150922\n",
      " 0.96960205 0.96597898 0.96185333 0.95775884 0.95395333 0.95060521\n",
      " 0.94784337 0.94575524 0.94437236 0.94367248 0.94358212 0.94399136\n",
      " 0.94476593 0.94576192 0.94683832 0.94786692]\n"
     ]
    },
    {
     "name": "stdout",
     "output_type": "stream",
     "text": [
      "19 day output [[0.94873846]]\n",
      "20 day input [0.86499146 0.866292   0.87791326 0.87406179 0.88117296 0.87079206\n",
      " 0.86976567 0.86268125 0.85312948 0.85693748 0.85375133 0.85542966\n",
      " 0.83636291 0.82274236 0.81823896 0.82231777 0.8443567  0.85769975\n",
      " 0.85549318 0.86111659 0.87236006 0.89641165 0.9128673  0.91561214\n",
      " 0.910303   0.91529453 0.92573895 0.93115841 0.91733727 0.912319\n",
      " 0.90831375 0.90591661 0.91453894 0.91870133 0.9101024  0.87439946\n",
      " 0.87035409 0.88253033 0.89454944 0.89773225 0.89113929 0.86110322\n",
      " 0.85614178 0.85076578 0.85017067 0.81891764 0.82935538 0.84306619\n",
      " 0.85657975 0.85196268 0.83781389 0.83815825 0.85051169 0.85572053\n",
      " 0.89221583 0.9048267  0.90396079 0.89423517 0.90090503 0.86765271\n",
      " 0.86257761 0.8811997  0.88668938 0.90476986 0.87998275 0.86182202\n",
      " 0.86003002 0.88385093 0.91494348 0.92898194 0.91894874 0.9481189\n",
      " 0.91663184 0.913439   0.9310414  0.93790516 0.93624021 0.93901514\n",
      " 0.98818149 0.98166542 0.95937586 0.96928298 0.97150922 0.96960205\n",
      " 0.96597898 0.96185333 0.95775884 0.95395333 0.95060521 0.94784337\n",
      " 0.94575524 0.94437236 0.94367248 0.94358212 0.94399136 0.94476593\n",
      " 0.94576192 0.94683832 0.94786692 0.94873846]\n",
      "20 day output [[0.94937044]]\n",
      "21 day input [0.866292   0.87791326 0.87406179 0.88117296 0.87079206 0.86976567\n",
      " 0.86268125 0.85312948 0.85693748 0.85375133 0.85542966 0.83636291\n",
      " 0.82274236 0.81823896 0.82231777 0.8443567  0.85769975 0.85549318\n",
      " 0.86111659 0.87236006 0.89641165 0.9128673  0.91561214 0.910303\n",
      " 0.91529453 0.92573895 0.93115841 0.91733727 0.912319   0.90831375\n",
      " 0.90591661 0.91453894 0.91870133 0.9101024  0.87439946 0.87035409\n",
      " 0.88253033 0.89454944 0.89773225 0.89113929 0.86110322 0.85614178\n",
      " 0.85076578 0.85017067 0.81891764 0.82935538 0.84306619 0.85657975\n",
      " 0.85196268 0.83781389 0.83815825 0.85051169 0.85572053 0.89221583\n",
      " 0.9048267  0.90396079 0.89423517 0.90090503 0.86765271 0.86257761\n",
      " 0.8811997  0.88668938 0.90476986 0.87998275 0.86182202 0.86003002\n",
      " 0.88385093 0.91494348 0.92898194 0.91894874 0.9481189  0.91663184\n",
      " 0.913439   0.9310414  0.93790516 0.93624021 0.93901514 0.98818149\n",
      " 0.98166542 0.95937586 0.96928298 0.97150922 0.96960205 0.96597898\n",
      " 0.96185333 0.95775884 0.95395333 0.95060521 0.94784337 0.94575524\n",
      " 0.94437236 0.94367248 0.94358212 0.94399136 0.94476593 0.94576192\n",
      " 0.94683832 0.94786692 0.94873846 0.94937044]\n",
      "21 day output [[0.9497069]]\n",
      "22 day input [0.87791326 0.87406179 0.88117296 0.87079206 0.86976567 0.86268125\n",
      " 0.85312948 0.85693748 0.85375133 0.85542966 0.83636291 0.82274236\n",
      " 0.81823896 0.82231777 0.8443567  0.85769975 0.85549318 0.86111659\n",
      " 0.87236006 0.89641165 0.9128673  0.91561214 0.910303   0.91529453\n",
      " 0.92573895 0.93115841 0.91733727 0.912319   0.90831375 0.90591661\n",
      " 0.91453894 0.91870133 0.9101024  0.87439946 0.87035409 0.88253033\n",
      " 0.89454944 0.89773225 0.89113929 0.86110322 0.85614178 0.85076578\n",
      " 0.85017067 0.81891764 0.82935538 0.84306619 0.85657975 0.85196268\n",
      " 0.83781389 0.83815825 0.85051169 0.85572053 0.89221583 0.9048267\n",
      " 0.90396079 0.89423517 0.90090503 0.86765271 0.86257761 0.8811997\n",
      " 0.88668938 0.90476986 0.87998275 0.86182202 0.86003002 0.88385093\n",
      " 0.91494348 0.92898194 0.91894874 0.9481189  0.91663184 0.913439\n",
      " 0.9310414  0.93790516 0.93624021 0.93901514 0.98818149 0.98166542\n",
      " 0.95937586 0.96928298 0.97150922 0.96960205 0.96597898 0.96185333\n",
      " 0.95775884 0.95395333 0.95060521 0.94784337 0.94575524 0.94437236\n",
      " 0.94367248 0.94358212 0.94399136 0.94476593 0.94576192 0.94683832\n",
      " 0.94786692 0.94873846 0.94937044 0.94970691]\n",
      "22 day output [[0.94971937]]\n",
      "23 day input [0.87406179 0.88117296 0.87079206 0.86976567 0.86268125 0.85312948\n",
      " 0.85693748 0.85375133 0.85542966 0.83636291 0.82274236 0.81823896\n",
      " 0.82231777 0.8443567  0.85769975 0.85549318 0.86111659 0.87236006\n",
      " 0.89641165 0.9128673  0.91561214 0.910303   0.91529453 0.92573895\n",
      " 0.93115841 0.91733727 0.912319   0.90831375 0.90591661 0.91453894\n",
      " 0.91870133 0.9101024  0.87439946 0.87035409 0.88253033 0.89454944\n",
      " 0.89773225 0.89113929 0.86110322 0.85614178 0.85076578 0.85017067\n",
      " 0.81891764 0.82935538 0.84306619 0.85657975 0.85196268 0.83781389\n",
      " 0.83815825 0.85051169 0.85572053 0.89221583 0.9048267  0.90396079\n",
      " 0.89423517 0.90090503 0.86765271 0.86257761 0.8811997  0.88668938\n",
      " 0.90476986 0.87998275 0.86182202 0.86003002 0.88385093 0.91494348\n",
      " 0.92898194 0.91894874 0.9481189  0.91663184 0.913439   0.9310414\n",
      " 0.93790516 0.93624021 0.93901514 0.98818149 0.98166542 0.95937586\n",
      " 0.96928298 0.97150922 0.96960205 0.96597898 0.96185333 0.95775884\n",
      " 0.95395333 0.95060521 0.94784337 0.94575524 0.94437236 0.94367248\n",
      " 0.94358212 0.94399136 0.94476593 0.94576192 0.94683832 0.94786692\n",
      " 0.94873846 0.94937044 0.94970691 0.94971937]\n",
      "23 day output [[0.9494059]]\n",
      "24 day input [0.88117296 0.87079206 0.86976567 0.86268125 0.85312948 0.85693748\n",
      " 0.85375133 0.85542966 0.83636291 0.82274236 0.81823896 0.82231777\n",
      " 0.8443567  0.85769975 0.85549318 0.86111659 0.87236006 0.89641165\n",
      " 0.9128673  0.91561214 0.910303   0.91529453 0.92573895 0.93115841\n",
      " 0.91733727 0.912319   0.90831375 0.90591661 0.91453894 0.91870133\n",
      " 0.9101024  0.87439946 0.87035409 0.88253033 0.89454944 0.89773225\n",
      " 0.89113929 0.86110322 0.85614178 0.85076578 0.85017067 0.81891764\n",
      " 0.82935538 0.84306619 0.85657975 0.85196268 0.83781389 0.83815825\n",
      " 0.85051169 0.85572053 0.89221583 0.9048267  0.90396079 0.89423517\n",
      " 0.90090503 0.86765271 0.86257761 0.8811997  0.88668938 0.90476986\n",
      " 0.87998275 0.86182202 0.86003002 0.88385093 0.91494348 0.92898194\n",
      " 0.91894874 0.9481189  0.91663184 0.913439   0.9310414  0.93790516\n",
      " 0.93624021 0.93901514 0.98818149 0.98166542 0.95937586 0.96928298\n",
      " 0.97150922 0.96960205 0.96597898 0.96185333 0.95775884 0.95395333\n",
      " 0.95060521 0.94784337 0.94575524 0.94437236 0.94367248 0.94358212\n",
      " 0.94399136 0.94476593 0.94576192 0.94683832 0.94786692 0.94873846\n",
      " 0.94937044 0.94970691 0.94971937 0.94940591]\n",
      "24 day output [[0.9487858]]\n",
      "25 day input [0.87079206 0.86976567 0.86268125 0.85312948 0.85693748 0.85375133\n",
      " 0.85542966 0.83636291 0.82274236 0.81823896 0.82231777 0.8443567\n",
      " 0.85769975 0.85549318 0.86111659 0.87236006 0.89641165 0.9128673\n",
      " 0.91561214 0.910303   0.91529453 0.92573895 0.93115841 0.91733727\n",
      " 0.912319   0.90831375 0.90591661 0.91453894 0.91870133 0.9101024\n",
      " 0.87439946 0.87035409 0.88253033 0.89454944 0.89773225 0.89113929\n",
      " 0.86110322 0.85614178 0.85076578 0.85017067 0.81891764 0.82935538\n",
      " 0.84306619 0.85657975 0.85196268 0.83781389 0.83815825 0.85051169\n",
      " 0.85572053 0.89221583 0.9048267  0.90396079 0.89423517 0.90090503\n",
      " 0.86765271 0.86257761 0.8811997  0.88668938 0.90476986 0.87998275\n",
      " 0.86182202 0.86003002 0.88385093 0.91494348 0.92898194 0.91894874\n",
      " 0.9481189  0.91663184 0.913439   0.9310414  0.93790516 0.93624021\n",
      " 0.93901514 0.98818149 0.98166542 0.95937586 0.96928298 0.97150922\n",
      " 0.96960205 0.96597898 0.96185333 0.95775884 0.95395333 0.95060521\n",
      " 0.94784337 0.94575524 0.94437236 0.94367248 0.94358212 0.94399136\n",
      " 0.94476593 0.94576192 0.94683832 0.94786692 0.94873846 0.94937044\n",
      " 0.94970691 0.94971937 0.94940591 0.94878578]\n",
      "25 day output [[0.94789547]]\n",
      "26 day input [0.86976567 0.86268125 0.85312948 0.85693748 0.85375133 0.85542966\n",
      " 0.83636291 0.82274236 0.81823896 0.82231777 0.8443567  0.85769975\n",
      " 0.85549318 0.86111659 0.87236006 0.89641165 0.9128673  0.91561214\n",
      " 0.910303   0.91529453 0.92573895 0.93115841 0.91733727 0.912319\n",
      " 0.90831375 0.90591661 0.91453894 0.91870133 0.9101024  0.87439946\n",
      " 0.87035409 0.88253033 0.89454944 0.89773225 0.89113929 0.86110322\n",
      " 0.85614178 0.85076578 0.85017067 0.81891764 0.82935538 0.84306619\n",
      " 0.85657975 0.85196268 0.83781389 0.83815825 0.85051169 0.85572053\n",
      " 0.89221583 0.9048267  0.90396079 0.89423517 0.90090503 0.86765271\n",
      " 0.86257761 0.8811997  0.88668938 0.90476986 0.87998275 0.86182202\n",
      " 0.86003002 0.88385093 0.91494348 0.92898194 0.91894874 0.9481189\n",
      " 0.91663184 0.913439   0.9310414  0.93790516 0.93624021 0.93901514\n",
      " 0.98818149 0.98166542 0.95937586 0.96928298 0.97150922 0.96960205\n",
      " 0.96597898 0.96185333 0.95775884 0.95395333 0.95060521 0.94784337\n",
      " 0.94575524 0.94437236 0.94367248 0.94358212 0.94399136 0.94476593\n",
      " 0.94576192 0.94683832 0.94786692 0.94873846 0.94937044 0.94970691\n",
      " 0.94971937 0.94940591 0.94878578 0.94789547]\n",
      "26 day output [[0.946785]]\n",
      "27 day input [0.86268125 0.85312948 0.85693748 0.85375133 0.85542966 0.83636291\n",
      " 0.82274236 0.81823896 0.82231777 0.8443567  0.85769975 0.85549318\n",
      " 0.86111659 0.87236006 0.89641165 0.9128673  0.91561214 0.910303\n",
      " 0.91529453 0.92573895 0.93115841 0.91733727 0.912319   0.90831375\n",
      " 0.90591661 0.91453894 0.91870133 0.9101024  0.87439946 0.87035409\n",
      " 0.88253033 0.89454944 0.89773225 0.89113929 0.86110322 0.85614178\n",
      " 0.85076578 0.85017067 0.81891764 0.82935538 0.84306619 0.85657975\n",
      " 0.85196268 0.83781389 0.83815825 0.85051169 0.85572053 0.89221583\n",
      " 0.9048267  0.90396079 0.89423517 0.90090503 0.86765271 0.86257761\n",
      " 0.8811997  0.88668938 0.90476986 0.87998275 0.86182202 0.86003002\n",
      " 0.88385093 0.91494348 0.92898194 0.91894874 0.9481189  0.91663184\n",
      " 0.913439   0.9310414  0.93790516 0.93624021 0.93901514 0.98818149\n",
      " 0.98166542 0.95937586 0.96928298 0.97150922 0.96960205 0.96597898\n",
      " 0.96185333 0.95775884 0.95395333 0.95060521 0.94784337 0.94575524\n",
      " 0.94437236 0.94367248 0.94358212 0.94399136 0.94476593 0.94576192\n",
      " 0.94683832 0.94786692 0.94873846 0.94937044 0.94970691 0.94971937\n",
      " 0.94940591 0.94878578 0.94789547 0.94678497]\n",
      "27 day output [[0.94551027]]\n",
      "28 day input [0.85312948 0.85693748 0.85375133 0.85542966 0.83636291 0.82274236\n",
      " 0.81823896 0.82231777 0.8443567  0.85769975 0.85549318 0.86111659\n",
      " 0.87236006 0.89641165 0.9128673  0.91561214 0.910303   0.91529453\n",
      " 0.92573895 0.93115841 0.91733727 0.912319   0.90831375 0.90591661\n",
      " 0.91453894 0.91870133 0.9101024  0.87439946 0.87035409 0.88253033\n",
      " 0.89454944 0.89773225 0.89113929 0.86110322 0.85614178 0.85076578\n",
      " 0.85017067 0.81891764 0.82935538 0.84306619 0.85657975 0.85196268\n",
      " 0.83781389 0.83815825 0.85051169 0.85572053 0.89221583 0.9048267\n",
      " 0.90396079 0.89423517 0.90090503 0.86765271 0.86257761 0.8811997\n",
      " 0.88668938 0.90476986 0.87998275 0.86182202 0.86003002 0.88385093\n",
      " 0.91494348 0.92898194 0.91894874 0.9481189  0.91663184 0.913439\n",
      " 0.9310414  0.93790516 0.93624021 0.93901514 0.98818149 0.98166542\n",
      " 0.95937586 0.96928298 0.97150922 0.96960205 0.96597898 0.96185333\n",
      " 0.95775884 0.95395333 0.95060521 0.94784337 0.94575524 0.94437236\n",
      " 0.94367248 0.94358212 0.94399136 0.94476593 0.94576192 0.94683832\n",
      " 0.94786692 0.94873846 0.94937044 0.94970691 0.94971937 0.94940591\n",
      " 0.94878578 0.94789547 0.94678497 0.94551027]\n"
     ]
    },
    {
     "name": "stdout",
     "output_type": "stream",
     "text": [
      "28 day output [[0.94413006]]\n",
      "29 day input [0.85693748 0.85375133 0.85542966 0.83636291 0.82274236 0.81823896\n",
      " 0.82231777 0.8443567  0.85769975 0.85549318 0.86111659 0.87236006\n",
      " 0.89641165 0.9128673  0.91561214 0.910303   0.91529453 0.92573895\n",
      " 0.93115841 0.91733727 0.912319   0.90831375 0.90591661 0.91453894\n",
      " 0.91870133 0.9101024  0.87439946 0.87035409 0.88253033 0.89454944\n",
      " 0.89773225 0.89113929 0.86110322 0.85614178 0.85076578 0.85017067\n",
      " 0.81891764 0.82935538 0.84306619 0.85657975 0.85196268 0.83781389\n",
      " 0.83815825 0.85051169 0.85572053 0.89221583 0.9048267  0.90396079\n",
      " 0.89423517 0.90090503 0.86765271 0.86257761 0.8811997  0.88668938\n",
      " 0.90476986 0.87998275 0.86182202 0.86003002 0.88385093 0.91494348\n",
      " 0.92898194 0.91894874 0.9481189  0.91663184 0.913439   0.9310414\n",
      " 0.93790516 0.93624021 0.93901514 0.98818149 0.98166542 0.95937586\n",
      " 0.96928298 0.97150922 0.96960205 0.96597898 0.96185333 0.95775884\n",
      " 0.95395333 0.95060521 0.94784337 0.94575524 0.94437236 0.94367248\n",
      " 0.94358212 0.94399136 0.94476593 0.94576192 0.94683832 0.94786692\n",
      " 0.94873846 0.94937044 0.94970691 0.94971937 0.94940591 0.94878578\n",
      " 0.94789547 0.94678497 0.94551027 0.94413006]\n",
      "29 day output [[0.9426998]]\n",
      "[[0.9593758583068848], [0.9692829847335815], [0.9715092182159424], [0.9696020483970642], [0.9659789800643921], [0.9618533253669739], [0.9577588438987732], [0.9539533257484436], [0.9506052136421204], [0.9478433728218079], [0.9457552433013916], [0.9443723559379578], [0.9436724781990051], [0.9435821175575256], [0.9439913630485535], [0.9447659254074097], [0.9457619190216064], [0.9468383193016052], [0.9478669166564941], [0.9487384557723999], [0.9493704438209534], [0.9497069120407104], [0.9497193694114685], [0.9494059085845947], [0.9487857818603516], [0.9478954672813416], [0.9467849731445312], [0.9455102682113647], [0.9441300630569458], [0.9426997900009155]]\n"
     ]
    }
   ],
   "source": [
    "# demonstrate prediction for next 10 days\n",
    "from numpy import array\n",
    "\n",
    "lst_output=[]\n",
    "n_steps=100\n",
    "i=0\n",
    "while(i<30):\n",
    "    \n",
    "    if(len(temp_input)>100):\n",
    "        #print(temp_input)\n",
    "        x_input=np.array(temp_input[1:])\n",
    "        print(\"{} day input {}\".format(i,x_input))\n",
    "        x_input=x_input.reshape(1,-1)\n",
    "        x_input = x_input.reshape((1, n_steps, 1))\n",
    "        #print(x_input)\n",
    "        yhat = model.predict(x_input, verbose=0)\n",
    "        print(\"{} day output {}\".format(i,yhat))\n",
    "        temp_input.extend(yhat[0].tolist())\n",
    "        temp_input=temp_input[1:]\n",
    "        #print(temp_input)\n",
    "        lst_output.extend(yhat.tolist())\n",
    "        i=i+1\n",
    "    else:\n",
    "        x_input = x_input.reshape((1, n_steps,1))\n",
    "        yhat = model.predict(x_input, verbose=0)\n",
    "        print(yhat[0])\n",
    "        temp_input.extend(yhat[0].tolist())\n",
    "        print(len(temp_input))\n",
    "        lst_output.extend(yhat.tolist())\n",
    "        i=i+1\n",
    "    \n",
    "\n",
    "print(lst_output)"
   ]
  },
  {
   "cell_type": "code",
   "execution_count": 38,
   "id": "41caad0c",
   "metadata": {},
   "outputs": [],
   "source": [
    "day_new=np.arange(1,101)\n",
    "day_pred=np.arange(101,131)"
   ]
  },
  {
   "cell_type": "code",
   "execution_count": 39,
   "id": "b19032f9",
   "metadata": {},
   "outputs": [],
   "source": [
    "import matplotlib.pyplot as plt"
   ]
  },
  {
   "cell_type": "code",
   "execution_count": 40,
   "id": "3609d9c6",
   "metadata": {},
   "outputs": [
    {
     "data": {
      "text/plain": [
       "1258"
      ]
     },
     "execution_count": 40,
     "metadata": {},
     "output_type": "execute_result"
    }
   ],
   "source": [
    "len(df1)"
   ]
  },
  {
   "cell_type": "code",
   "execution_count": 41,
   "id": "8d67cfa6",
   "metadata": {},
   "outputs": [
    {
     "data": {
      "text/plain": [
       "[<matplotlib.lines.Line2D at 0x20de86405e0>]"
      ]
     },
     "execution_count": 41,
     "metadata": {},
     "output_type": "execute_result"
    },
    {
     "data": {
      "image/png": "[encoded data removed]",
      "text/plain": [
       "<Figure size 432x288 with 1 Axes>"
      ]
     },
     "metadata": {
      "needs_background": "light"
     },
     "output_type": "display_data"
    }
   ],
   "source": [
    "plt.plot(day_new,scaler.inverse_transform(df1[1158:]))\n",
    "plt.plot(day_pred,scaler.inverse_transform(lst_output))"
   ]
  },
  {
   "cell_type": "code",
   "execution_count": null,
   "id": "6e6a697a",
   "metadata": {},
   "outputs": [],
   "source": []
  },
  {
   "cell_type": "code",
   "execution_count": 42,
   "id": "2871a221",
   "metadata": {},
   "outputs": [
    {
     "data": {
      "text/plain": [
       "[<matplotlib.lines.Line2D at 0x20de866d4c0>]"
      ]
     },
     "execution_count": 42,
     "metadata": {},
     "output_type": "execute_result"
    },
    {
     "data": {
      "image/png": "[encoded data removed]",
      "text/plain": [
       "<Figure size 432x288 with 1 Axes>"
      ]
     },
     "metadata": {
      "needs_background": "light"
     },
     "output_type": "display_data"
    }
   ],
   "source": [
    "df3=df1.tolist()\n",
    "df3.extend(lst_output)\n",
    "plt.plot(df3[1200:])"
   ]
  },
  {
   "cell_type": "code",
   "execution_count": 43,
   "id": "8fbbc697",
   "metadata": {},
   "outputs": [],
   "source": [
    "df3=scaler.inverse_transform(df3).tolist()"
   ]
  },
  {
   "cell_type": "code",
   "execution_count": 44,
   "id": "f597b9d8",
   "metadata": {},
   "outputs": [
    {
     "data": {
      "text/plain": [
       "[<matplotlib.lines.Line2D at 0x20de86911f0>]"
      ]
     },
     "execution_count": 44,
     "metadata": {},
     "output_type": "execute_result"
    },
    {
     "data": {
      "image/png": "[encoded data removed]",
      "text/plain": [
       "<Figure size 432x288 with 1 Axes>"
      ]
     },
     "metadata": {
      "needs_background": "light"
     },
     "output_type": "display_data"
    }
   ],
   "source": [
    "plt.plot(df3)"
   ]
  },
  {
   "cell_type": "code",
   "execution_count": null,
   "id": "2679418d",
   "metadata": {},
   "outputs": [],
   "source": []
  }
 ],
 "metadata": {
  "kernelspec": {
   "display_name": "Python 3",
   "language": "python",
   "name": "python3"
  },
  "language_info": {
   "codemirror_mode": {
    "name": "ipython",
    "version": 3
   },
   "file_extension": ".py",
   "mimetype": "text/x-python",
   "name": "python",
   "nbconvert_exporter": "python",
   "pygments_lexer": "ipython3",
   "version": "3.8.8"
  }
 },
 "nbformat": 4,
 "nbformat_minor": 5
}
